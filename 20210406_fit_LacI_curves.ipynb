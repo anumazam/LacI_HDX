{
 "cells": [
  {
   "cell_type": "code",
   "execution_count": 53,
   "metadata": {},
   "outputs": [
    {
     "name": "stdout",
     "output_type": "stream",
     "text": [
      "[30, 45, 60, 300, 1500, 3600, 7200, 14400]\n",
      "VAQQLAGKQSLLIG\n",
      "[30, 45, 60, 300, 1500, 3600, 7200, 14400]\n",
      "[Series([], Name: #D, dtype: object), Series([], Name: #D, dtype: object), Series([], Name: #D, dtype: object), Series([], Name: #D, dtype: object), Series([], Name: #D, dtype: object), Series([], Name: #D, dtype: object), Series([], Name: #D, dtype: object), Series([], Name: #D, dtype: object)]\n"
     ]
    },
    {
     "ename": "TypeError",
     "evalue": "cannot convert the series to <class 'float'>",
     "output_type": "error",
     "traceback": [
      "\u001b[0;31m---------------------------------------------------------------------------\u001b[0m",
      "\u001b[0;31mTypeError\u001b[0m                                 Traceback (most recent call last)",
      "\u001b[0;32m<ipython-input-53-18fad5e5b4f3>\u001b[0m in \u001b[0;36m<module>\u001b[0;34m\u001b[0m\n\u001b[1;32m     65\u001b[0m     \u001b[0mDNA_exchanged_\u001b[0m \u001b[0;34m=\u001b[0m \u001b[0;34m[\u001b[0m\u001b[0;34m]\u001b[0m\u001b[0;34m\u001b[0m\u001b[0;34m\u001b[0m\u001b[0m\n\u001b[1;32m     66\u001b[0m     \u001b[0;32mfor\u001b[0m \u001b[0mx\u001b[0m \u001b[0;32min\u001b[0m \u001b[0mDNA_exchanged\u001b[0m\u001b[0;34m:\u001b[0m\u001b[0;34m\u001b[0m\u001b[0;34m\u001b[0m\u001b[0m\n\u001b[0;32m---> 67\u001b[0;31m         \u001b[0;32mif\u001b[0m \u001b[0;32mnot\u001b[0m \u001b[0mmath\u001b[0m\u001b[0;34m.\u001b[0m\u001b[0misnan\u001b[0m\u001b[0;34m(\u001b[0m\u001b[0mfloat\u001b[0m\u001b[0;34m(\u001b[0m\u001b[0mx\u001b[0m\u001b[0;34m)\u001b[0m\u001b[0;34m)\u001b[0m\u001b[0;34m:\u001b[0m\u001b[0;34m\u001b[0m\u001b[0;34m\u001b[0m\u001b[0m\n\u001b[0m\u001b[1;32m     68\u001b[0m             \u001b[0mDNA_timepoints\u001b[0m\u001b[0;34m.\u001b[0m\u001b[0mappend\u001b[0m\u001b[0;34m(\u001b[0m\u001b[0mtimepoints\u001b[0m\u001b[0;34m[\u001b[0m\u001b[0mDNA_index\u001b[0m\u001b[0;34m]\u001b[0m\u001b[0;34m)\u001b[0m\u001b[0;34m\u001b[0m\u001b[0;34m\u001b[0m\u001b[0m\n\u001b[1;32m     69\u001b[0m             \u001b[0mDNA_exchanged_\u001b[0m\u001b[0;34m.\u001b[0m\u001b[0mappend\u001b[0m\u001b[0;34m(\u001b[0m\u001b[0mfloat\u001b[0m\u001b[0;34m(\u001b[0m\u001b[0mx\u001b[0m\u001b[0;34m)\u001b[0m\u001b[0;34m)\u001b[0m\u001b[0;34m\u001b[0m\u001b[0;34m\u001b[0m\u001b[0m\n",
      "\u001b[0;32m~/miniconda3/lib/python3.8/site-packages/pandas/core/series.py\u001b[0m in \u001b[0;36mwrapper\u001b[0;34m(self)\u001b[0m\n\u001b[1;32m    127\u001b[0m         \u001b[0;32mif\u001b[0m \u001b[0mlen\u001b[0m\u001b[0;34m(\u001b[0m\u001b[0mself\u001b[0m\u001b[0;34m)\u001b[0m \u001b[0;34m==\u001b[0m \u001b[0;36m1\u001b[0m\u001b[0;34m:\u001b[0m\u001b[0;34m\u001b[0m\u001b[0;34m\u001b[0m\u001b[0m\n\u001b[1;32m    128\u001b[0m             \u001b[0;32mreturn\u001b[0m \u001b[0mconverter\u001b[0m\u001b[0;34m(\u001b[0m\u001b[0mself\u001b[0m\u001b[0;34m.\u001b[0m\u001b[0miloc\u001b[0m\u001b[0;34m[\u001b[0m\u001b[0;36m0\u001b[0m\u001b[0;34m]\u001b[0m\u001b[0;34m)\u001b[0m\u001b[0;34m\u001b[0m\u001b[0;34m\u001b[0m\u001b[0m\n\u001b[0;32m--> 129\u001b[0;31m         \u001b[0;32mraise\u001b[0m \u001b[0mTypeError\u001b[0m\u001b[0;34m(\u001b[0m\u001b[0;34mf\"cannot convert the series to {converter}\"\u001b[0m\u001b[0;34m)\u001b[0m\u001b[0;34m\u001b[0m\u001b[0;34m\u001b[0m\u001b[0m\n\u001b[0m\u001b[1;32m    130\u001b[0m \u001b[0;34m\u001b[0m\u001b[0m\n\u001b[1;32m    131\u001b[0m     \u001b[0mwrapper\u001b[0m\u001b[0;34m.\u001b[0m\u001b[0m__name__\u001b[0m \u001b[0;34m=\u001b[0m \u001b[0;34mf\"__{converter.__name__}__\"\u001b[0m\u001b[0;34m\u001b[0m\u001b[0;34m\u001b[0m\u001b[0m\n",
      "\u001b[0;31mTypeError\u001b[0m: cannot convert the series to <class 'float'>"
     ]
    }
   ],
   "source": [
    "import numpy as np\n",
    "import math\n",
    "import matplotlib as mpl\n",
    "import matplotlib.pyplot as plt\n",
    "import pandas as pd\n",
    "import seaborn as sns\n",
    "from scipy.optimize import curve_fit\n",
    "import ipywidgets as widgets\n",
    "from matplotlib.ticker import FormatStrFormatter\n",
    "import pytraj as pt\n",
    "import nglview as nv\n",
    "\n",
    "# read in the data\n",
    "\n",
    "df_DNA = pd.read_csv('./uptake_summary_table_DNA.csv', header=0) #change csv name\n",
    "df_IPTG = pd.read_csv('./uptake_summary_table_IPTG.csv', header=0)\n",
    "\n",
    "# catalog unique peptides in both states\n",
    "\n",
    "timepoints = df_DNA['Deut Time (sec)'].unique()\n",
    "timepoints = list(timepoints)\n",
    "timepoints.pop()\n",
    "timepoints.pop()\n",
    "timepoints = [int(i) for i in timepoints]\n",
    "peptides_DNA = df_DNA['Sequence'].unique()\n",
    "peptides_IPTG = df_IPTG['Sequence'].unique()\n",
    "\n",
    "df_peptides_resnum = df_DNA[[\"Start\",\"End\",\"Sequence\"]]\n",
    "df_peptides_resnum = df_peptides_resnum.drop_duplicates()\n",
    "peptide_resnums = {}\n",
    "for index, row in df_peptides_resnum.iterrows():\n",
    "    peptide_resnums[ row['Sequence'] ] = row['Start'], row['End']\n",
    "\n",
    "peptides_both_ = set(peptides_DNA).intersection(peptides_IPTG)\n",
    "peptides_both = []\n",
    "for x in peptides_both_:\n",
    "    if type(x) is str:\n",
    "        peptides_both.append(x)\n",
    "peptides_one = set(peptides_DNA).difference(peptides_IPTG)\n",
    "\n",
    "# remove peptides with limited exchange data in one or both states\n",
    "\n",
    "peptides_both_complete = []\n",
    "for peptide in peptides_both:\n",
    "    print(peptide)\n",
    "    DNA_exchanged = []\n",
    "    IPTG_exchanged = []\n",
    "\n",
    "    df_DNA_subset = df_DNA[[\"Sequence\",\"Deut Time (sec)\",\"#D\"]]\n",
    "    df_IPTG_subset = df_IPTG[[\"Sequence\",\"Deut Time (sec)\",\"#D\"]]\n",
    "    df_DNA_peptide = df_DNA_subset[df_DNA_subset[\"Sequence\"] == peptide]\n",
    "    df_IPTG_peptide = df_IPTG_subset[df_IPTG_subset[\"Sequence\"] == peptide]\n",
    "    \n",
    "    for timepoint in timepoints:\n",
    "        df_DNA_tp = df_DNA_peptide[df_DNA_peptide[\"Deut Time (sec)\"] == timepoint]\n",
    "        DNA_exchanged.append(df_DNA_tp['#D'])\n",
    "        df_IPTG_tp = df_IPTG_peptide[df_IPTG_peptide[\"Deut Time (sec)\"] == timepoint]\n",
    "        IPTG_exchanged.append(df_IPTG_tp['#D'])\n",
    "    print(timepoints)\n",
    "    print(DNA_exchanged)\n",
    "                \n",
    "    DNA_timepoints = []\n",
    "    DNA_index = 0\n",
    "    DNA_exchanged_ = []\n",
    "    for x in DNA_exchanged:\n",
    "        if not math.isnan(float(x)):\n",
    "            DNA_timepoints.append(timepoints[DNA_index])\n",
    "            DNA_exchanged_.append(float(x))\n",
    "        DNA_index = DNA_index + 1\n",
    "        \n",
    "    IPTG_timepoints = []\n",
    "    IPTG_index = 0\n",
    "    IPTG_exchanged_ = []\n",
    "    for x in IPTG_exchanged:\n",
    "        if not math.isnan(float(x)):\n",
    "            IPTG_timepoints.append(timepoints[IPTG_index])\n",
    "            IPTG_exchanged_.append(float(x))\n",
    "        IPTG_index = IPTG_index + 1\n",
    "    \n",
    "    if len(DNA_exchanged_) > 3 and len(IPTG_exchanged_) > 3:\n",
    "        peptides_both_complete.append(peptide)"
   ]
  },
  {
   "cell_type": "code",
   "execution_count": 2,
   "metadata": {},
   "outputs": [
    {
     "data": {
      "application/vnd.jupyter.widget-view+json": {
       "model_id": "01d5bcb7f4f74592896d0ca51ac570e8",
       "version_major": 2,
       "version_minor": 0
      },
      "text/plain": [
       "Dropdown(description='Peptide 1:', index=54, options=('1 - GSSAPAANGEVPTFKL', '1 - GSSAPAANGEVPTFKLVL', '1 - G…"
      ]
     },
     "metadata": {},
     "output_type": "display_data"
    },
    {
     "data": {
      "application/vnd.jupyter.widget-view+json": {
       "model_id": "2648e41c3231452abd188e9f7ee71fc8",
       "version_major": 2,
       "version_minor": 0
      },
      "text/plain": [
       "Dropdown(description='Peptide 2:', index=11, options=('1 - GSSAPAANGEVPTFKL', '1 - GSSAPAANGEVPTFKLVL', '1 - G…"
      ]
     },
     "metadata": {},
     "output_type": "display_data"
    }
   ],
   "source": [
    "# widgets: choose a peptide from the culled peptide dataset\n",
    "\n",
    "dropdown_peptides = []\n",
    "for peptide in peptides_both_complete:\n",
    "    peptide_start = str(peptide_resnums.get(peptide)[0])\n",
    "    peptide_end = str(peptide_resnums.get(peptide)[1])\n",
    "    dropdown_peptides.append(peptide_start + ' - ' + peptide)\n",
    "\n",
    "dropdown_peptides = sorted(dropdown_peptides, key=lambda x:x[:3])\n",
    "\n",
    "DDwidget = widgets.Dropdown(\n",
    "    options = dropdown_peptides,\n",
    "    value = '72 - ALHAPSQIVAA',\n",
    "    description = 'Peptide 1:',\n",
    "    disabled = False,\n",
    ")\n",
    "\n",
    "DDwidget2 = widgets.Dropdown(\n",
    "    options = dropdown_peptides,\n",
    "    value = '109 - AAVHNL',\n",
    "    description = 'Peptide 2:',\n",
    "    disabled = False,\n",
    ")\n",
    "\n",
    "display(DDwidget)\n",
    "display(DDwidget2)"
   ]
  },
  {
   "cell_type": "code",
   "execution_count": 5,
   "metadata": {
    "scrolled": false
   },
   "outputs": [
    {
     "name": "stderr",
     "output_type": "stream",
     "text": [
      "/Users/anumglasgow/miniconda3/lib/python3.8/site-packages/scipy/optimize/minpack.py:828: OptimizeWarning: Covariance of the parameters could not be estimated\n",
      "  warnings.warn('Covariance of the parameters could not be estimated',\n",
      "/Users/anumglasgow/miniconda3/lib/python3.8/site-packages/scipy/optimize/minpack.py:828: OptimizeWarning: Covariance of the parameters could not be estimated\n",
      "  warnings.warn('Covariance of the parameters could not be estimated',\n"
     ]
    },
    {
     "name": "stdout",
     "output_type": "stream",
     "text": [
      "\n",
      "PDB ID: 3M1I (Gsp1-GTP). \n",
      "\n",
      "Use the mouse to move the structure. \n",
      "Double-click for full-screen. Type \"R\" to zoom out, \"I\" to rotate, and \"K\" to rock.\n",
      "NGLViewer, an amazing tool: H Nguyen, DA Case and AS Rose, Bioinformatics, 2017. doi:10.1093/bioinformatics/btx789\n",
      "\n",
      "Peptide VEVHPLSF, residues 168-166, shown as orange surface and sticks.\n",
      "Peptide WLARKLAGNPQL, residues 168-166, shown as blue surface and sticks.\n"
     ]
    },
    {
     "data": {
      "application/vnd.jupyter.widget-view+json": {
       "model_id": "9622469233834e77b4568010510f47e4",
       "version_major": 2,
       "version_minor": 0
      },
      "text/plain": [
       "NGLWidget()"
      ]
     },
     "metadata": {},
     "output_type": "display_data"
    },
    {
     "data": {
      "image/png": "[encoded data removed]",
      "text/plain": [
       "<Figure size 432x288 with 1 Axes>"
      ]
     },
     "metadata": {
      "needs_background": "light"
     },
     "output_type": "display_data"
    },
    {
     "data": {
      "image/png": "[encoded data removed]",
      "text/plain": [
       "<Figure size 432x288 with 1 Axes>"
      ]
     },
     "metadata": {
      "needs_background": "light"
     },
     "output_type": "display_data"
    }
   ],
   "source": [
    "peptide_input1 = str(DDwidget.value)\n",
    "peptide_input1 = peptide_input1.split()[-1]\n",
    "\n",
    "peptide_input2 = str(DDwidget2.value)\n",
    "peptide_input2 = peptide_input2.split()[-1]\n",
    "\n",
    "selected_peptides = [peptide_input1, peptide_input2]\n",
    "\n",
    "for peptide in selected_peptides:\n",
    "    DNA_exchanged = []\n",
    "    IPTG_exchanged = []\n",
    "    num_prolines = peptide[2:].count('P')\n",
    "    max_protons = len(peptide) - 2 - num_prolines\n",
    "\n",
    "    df_DNA_subset = df_DNA[[\"Sequence\",\"Deut Time (sec)\",\"#D\"]]\n",
    "    df_IPTG_subset = df_IPTG[[\"Sequence\",\"Deut Time (sec)\",\"#D\"]]\n",
    "    df_DNA_peptide = df_DNA_subset[df_DNA_subset[\"Sequence\"] == peptide]\n",
    "    df_IPTG_peptide = df_IPTG_subset[df_IPTG_subset[\"Sequence\"] == peptide]\n",
    "        \n",
    "    for timepoint in timepoints:\n",
    "        df_DNA_tp = df_DNA_peptide[df_DNA_peptide[\"Deut Time (sec)\"] == timepoint]\n",
    "        DNA_exchanged.append(df_DNA_tp['#D'])\n",
    "        df_IPTG_tp = df_IPTG_peptide[df_IPTG_peptide[\"Deut Time (sec)\"] == timepoint]\n",
    "        IPTG_exchanged.append(df_IPTG_tp['#D'])\n",
    "        \n",
    "    DNA_timepoints = []\n",
    "    DNA_index = 0\n",
    "    DNA_exchanged_ = []\n",
    "    for x in DNA_exchanged:\n",
    "        if not math.isnan(float(x)):\n",
    "            DNA_timepoints.append(timepoints[DNA_index])\n",
    "            DNA_exchanged_.append(float(x))\n",
    "        DNA_index = DNA_index + 1\n",
    "        \n",
    "    IPTG_timepoints = []\n",
    "    IPTG_index = 0\n",
    "    IPTG_exchanged_ = []\n",
    "    for x in IPTG_exchanged:\n",
    "        if not math.isnan(float(x)):\n",
    "            IPTG_timepoints.append(timepoints[IPTG_index])\n",
    "            IPTG_exchanged_.append(float(x))\n",
    "        IPTG_index = IPTG_index + 1\n",
    "\n",
    "    def exchange_fit(x, a, b, c, d, e, f, g):\n",
    "        max_protons = a + b + c + g - 2 - num_prolines\n",
    "        d > e\n",
    "        e > f\n",
    "        d > f\n",
    "        return max_protons - a * np.exp(-d * x) - b * np.exp(-e * x) - c * np.exp(-f * x) - g\n",
    "\n",
    "\n",
    "    DNA_exchanged_list = []\n",
    "    for element in DNA_exchanged_:\n",
    "        DNA_exchanged_list.append(float(element))\n",
    "    IPTG_exchanged_list = []\n",
    "    for element in IPTG_exchanged_:\n",
    "        IPTG_exchanged_list.append(float(element))\n",
    "\n",
    "    trialT = np.logspace(1, 4.5, 10000)\n",
    "    popt, pcov = curve_fit(f = exchange_fit, xdata = DNA_timepoints, ydata = DNA_exchanged_list,\n",
    "                           bounds = (0, [max_protons-1, max_protons-1, max_protons-1, 1, 1, 1, max_protons]),\n",
    "                           maxfev = 100000)\n",
    "    exchange_DNA = exchange_fit(trialT, *popt)\n",
    "    perr = np.sqrt(np.diag(pcov))\n",
    "\n",
    "\n",
    "    trialT = np.logspace(1, 4.5, 10000)\n",
    "    popt, pcov = curve_fit(f = exchange_fit, xdata = IPTG_timepoints, ydata = IPTG_exchanged_list,\n",
    "                           bounds = (0, [max_protons-1, max_protons-1, max_protons-1, 1, 1, 1, max_protons]),\n",
    "                           maxfev = 100000)\n",
    "    exchange_IPTG = exchange_fit(trialT, *popt)\n",
    "    perr = np.sqrt(np.diag(pcov))\n",
    "\n",
    "    font = {'family' : 'DejaVu Sans',\n",
    "            'weight' : 'normal',\n",
    "            'size'   : 20\n",
    "           }\n",
    "    axes = {'titlesize' : 20,\n",
    "            'titleweight' : 'bold',\n",
    "            'labelsize' : 20\n",
    "           }\n",
    "\n",
    "    plt.rc('font', **font)\n",
    "    plt.rc('axes', **axes)\n",
    "    plt.rc('lines', lw = 3)\n",
    "\n",
    "    fig, ax = plt.subplots()\n",
    "    ax.plot(DNA_timepoints, DNA_exchanged_, 'o', color = 'yellowgreen', markersize = 12, label = 'DNA')\n",
    "    ax.plot(trialT, exchange_DNA, ls = '-', color = 'yellowgreen')\n",
    "    ax.plot(IPTG_timepoints, IPTG_exchanged_, 'o', markersize = 12, label = 'IPTG', color = 'orange')\n",
    "    ax.plot(trialT, exchange_IPTG, ls = '-', color = 'orange')\n",
    "    peptide_start = peptide_resnums.get(peptide)[0]\n",
    "    peptide_end = peptide_resnums.get(peptide)[0]\n",
    "    ax.set(xlabel = 'Time (s)', ylabel = '#D', title = str(peptide_start) + \": \" + peptide)\n",
    "    ax.set_ylim(-.25,max_protons+0.5)\n",
    "    ax.yaxis.set_major_formatter(FormatStrFormatter('%.f'))\n",
    "    ax.set_xscale('log')\n",
    "    ax.legend(frameon = True)\n",
    "    plt.savefig(str(peptide_start) + \"_\" + peptide + \".png\",  transparent=True)\n",
    "\n",
    "# This section controls the structure widget.\n",
    "\n",
    "\n",
    "peptide1_start = str(peptide_resnums.get(peptide_input1)[0])\n",
    "peptide1_end = str(peptide_resnums.get(peptide_input1)[1])\n",
    "peptide2_start = str(peptide_resnums.get(peptide_input2)[0])\n",
    "peptide2_end = str(peptide_resnums.get(peptide_input2)[1])\n",
    "\n",
    "view = nv.NGLWidget()\n",
    "traj = pt.load('2p9h_REDO.pdb')\n",
    "view = nv.show_pytraj(traj)\n",
    "view.add_surface(peptide1_start + \"-\" + peptide1_end, color = 'orange', opacity='0.5', wireframe=False)\n",
    "# view.add_ball_and_stick(peptide1_start + \"-\" + peptide1_end)\n",
    "view.add_surface(peptide2_start + \"-\" + peptide2_end, color = 'lightblue', opacity='0.5', wireframe=False)\n",
    "# view.add_ball_and_stick(peptide2_start + \"-\" + peptide2_end)\n",
    "view.add_ball_and_stick('1177-1178')\n",
    "view.background = \"white\"\n",
    "\n",
    "# view.add_representation('line', selection='water') # uncomment this line to see solvent\n",
    "view._set_size('800px', '600px')\n",
    "\n",
    "print('''\n",
    "PDB ID: 2P9H (LacI-IPTG). \n",
    "\n",
    "Use the mouse to move the structure. \n",
    "Double-click for full-screen. Type \"R\" to zoom out, \"I\" to rotate, and \"K\" to rock.\n",
    "NGLViewer, an amazing tool: H Nguyen, DA Case and AS Rose, Bioinformatics, 2017. doi:10.1093/bioinformatics/btx789\n",
    "''')\n",
    "print('Peptide ' + peptide_input1 + ', residues ' + str(peptide_start+2) + \"-\" + str(peptide_end) + \n",
    "      ', shown as orange surface and sticks.')\n",
    "print('Peptide ' + peptide_input2 + ', residues ' + str(peptide_start+2) + \"-\" + str(peptide_end) + \n",
    "      ', shown as blue surface and sticks.')\n",
    "view"
   ]
  },
  {
   "cell_type": "code",
   "execution_count": null,
   "metadata": {},
   "outputs": [],
   "source": []
  },
  {
   "cell_type": "code",
   "execution_count": null,
   "metadata": {},
   "outputs": [],
   "source": []
  }
 ],
 "metadata": {
  "kernelspec": {
   "display_name": "Python 3",
   "language": "python",
   "name": "python3"
  },
  "language_info": {
   "codemirror_mode": {
    "name": "ipython",
    "version": 3
   },
   "file_extension": ".py",
   "mimetype": "text/x-python",
   "name": "python",
   "nbconvert_exporter": "python",
   "pygments_lexer": "ipython3",
   "version": "3.8.3"
  }
 },
 "nbformat": 4,
 "nbformat_minor": 4
}
