{
 "cells": [
  {
   "cell_type": "markdown",
   "metadata": {},
   "source": [
    "# This is a tool for looking at HDX/MS data, LacI structure, and mutational phenotypes for particular LacI peptides in one or more functional states.\n",
    "\n",
    "![LacI peptides and structure.](lacI_diagram.png)"
   ]
  },
  {
   "cell_type": "markdown",
   "metadata": {},
   "source": [
    "### First choose the state(s)."
   ]
  },
  {
   "cell_type": "code",
   "execution_count": null,
   "metadata": {},
   "outputs": [],
   "source": [
    "import pandas as pd\n",
    "import numpy as np\n",
    "import matplotlib.pyplot as plt\n",
    "import pytraj as pt\n",
    "import nglview as nv\n",
    "from itertools import combinations\n",
    "from scipy.stats import ttest_ind\n",
    "from scipy.stats import f_oneway\n",
    "import seaborn as sns\n",
    "import ipywidgets as widgets\n",
    "\n",
    "print('Choose from the following functional states: ')\n",
    "CBwidget_APO = widgets.Checkbox(description = 'APO protein', value=True, disabled=False)\n",
    "CBwidget_DNA = widgets.Checkbox(description = 'operator DNA', value=True, disabled=False)\n",
    "CBwidget_ONPFDNA = widgets.Checkbox(description = 'ONPF and operator DNA', value=True, disabled=False)\n",
    "CBwidget_IPTG = widgets.Checkbox(description = 'IPTG, an inducer molecule', value=True, disabled=False)\n",
    "CBwidget_ONPF = widgets.Checkbox(description = 'ONPF, an anti-inducer molecule', value=True, disabled=False)\n",
    "CBwidget_TMG = widgets.Checkbox(description = 'TMG, an inducer molecule', value=True, disabled=False)\n",
    "\n",
    "display(CBwidget_APO, CBwidget_DNA, CBwidget_IPTG, CBwidget_TMG, CBwidget_ONPF, CBwidget_ONPFDNA)"
   ]
  },
  {
   "cell_type": "markdown",
   "metadata": {},
   "source": [
    "Run the next block to confirm choices."
   ]
  },
  {
   "cell_type": "code",
   "execution_count": null,
   "metadata": {},
   "outputs": [],
   "source": [
    "states_list = []\n",
    "\n",
    "if CBwidget_APO.value == True:\n",
    "    states_list.append('APO')\n",
    "if CBwidget_DNA.value == True:\n",
    "    states_list.append('DNA')\n",
    "if CBwidget_ONPFDNA.value == True:\n",
    "    states_list.append('ONPFDNA')\n",
    "if CBwidget_IPTG.value == True:\n",
    "    states_list.append('IPTG')\n",
    "if CBwidget_ONPF.value == True:\n",
    "    states_list.append('ONPF')\n",
    "if CBwidget_TMG.value == True:\n",
    "    states_list.append('TMG')\n",
    "\n",
    "print('Chosen states:'); print(*states_list)\n",
    "\n",
    "compiled_file = pd.ExcelFile('20200922_compiled_rates.xlsx')\n",
    "\n",
    "states_dict = {}\n",
    "for state in states_list:\n",
    "    states_dict[state] = pd.read_excel(compiled_file, state)\n",
    "\n",
    "# Make dictionaries to organize mutation information\n",
    "MH_dict = {}\n",
    "with open(\"MH_groups.txt\") as file:\n",
    "    for line in file:\n",
    "        (key, val) = line.split()\n",
    "        MH_dict[int(key)] = val\n",
    "\n",
    "mutation_dict = {}\n",
    "with open(\"single_mutants.txt\") as file:\n",
    "    for line in file:\n",
    "        (key, val) = line.split()\n",
    "        mutation_dict[key] = val\n",
    "        \n",
    "MHdescriptions_dict = {}\n",
    "with open(\"MHgroups_descriptions.txt\") as file:\n",
    "    for line in file:\n",
    "        (key, val) = line.split(':')\n",
    "        MHdescriptions_dict[key] = val"
   ]
  },
  {
   "cell_type": "markdown",
   "metadata": {},
   "source": [
    "### Next, choose a peptide."
   ]
  },
  {
   "cell_type": "code",
   "execution_count": null,
   "metadata": {
    "scrolled": false
   },
   "outputs": [],
   "source": [
    "single_state_dict = states_dict.get(states_list[0])\n",
    "all_peptides = single_state_dict[['peptide']].values.tolist()\n",
    "all_peptides_2 = []\n",
    "index = 0\n",
    "while index < len(all_peptides):\n",
    "    all_peptides_2.append(all_peptides[index][0])\n",
    "    index = index + 1\n",
    "\n",
    "DDwidget = widgets.Dropdown(\n",
    "    options = all_peptides_2,\n",
    "    value = 'LIGVA',\n",
    "    description = 'Peptide:',\n",
    "    disabled = False,\n",
    ")\n",
    "\n",
    "display(DDwidget)"
   ]
  },
  {
   "cell_type": "markdown",
   "metadata": {},
   "source": [
    "Run the next block to confirm your peptide choice."
   ]
  },
  {
   "cell_type": "code",
   "execution_count": null,
   "metadata": {},
   "outputs": [],
   "source": [
    "peptide_input = DDwidget.value\n",
    "\n",
    "list_states = states_dict.keys()\n",
    "peptide_dict = dict.fromkeys(list_states, peptide_input)\n",
    "\n",
    "for key in peptide_dict:\n",
    "    peptide_df = states_dict[key]\n",
    "    peptide_df = peptide_df[peptide_df[\"peptide\"] == peptide_input]\n",
    "    peptide_df = peptide_df[['first_res','last_res','peptide','k1','k2','k3','A','B','C']]\n",
    "    peptide_dict[key] = peptide_df\n",
    "\n",
    "peptide_first_res = int(peptide_df['first_res'])\n",
    "peptide_last_res = int(peptide_df['last_res'])\n",
    "print(peptide_input + \": residues \" + str(peptide_first_res) + \"-\" + str(peptide_last_res))"
   ]
  },
  {
   "cell_type": "markdown",
   "metadata": {},
   "source": [
    "### Fit deuterium uptake functions for each peptide for each state."
   ]
  },
  {
   "cell_type": "code",
   "execution_count": null,
   "metadata": {},
   "outputs": [],
   "source": [
    "fit_dict = dict.fromkeys(list_states)\n",
    "\n",
    "for key in peptide_dict:\n",
    "    current_table = peptide_dict.get(key)\n",
    "\n",
    "    N = current_table['A'] + current_table['B'] + current_table['C']\n",
    "\n",
    "    k1 = current_table['k1']\n",
    "    k2 = current_table['k2']\n",
    "    k3 = current_table['k3']\n",
    "    A = current_table['A']\n",
    "    B = current_table['B']\n",
    "    C = current_table['C']\n",
    "\n",
    "    t = np.logspace(0, 4.5, 1000)\n",
    "    fit_data = []\n",
    "\n",
    "    for timepoint in t:\n",
    "        fit_item = N - ( A*np.exp(-k1*timepoint) + B*np.exp(-k2*timepoint) + C*np.exp(-k3*timepoint) )\n",
    "        fit_data.append(float(fit_item))\n",
    "    \n",
    "    fit_dict[key] = fit_data"
   ]
  },
  {
   "cell_type": "markdown",
   "metadata": {},
   "source": [
    "### Compile mutational phenotype data for this peptide."
   ]
  },
  {
   "cell_type": "code",
   "execution_count": null,
   "metadata": {
    "scrolled": false
   },
   "outputs": [],
   "source": [
    "# This section controls the mutation information.\n",
    "\n",
    "peptide_range = range(peptide_first_res, peptide_last_res + 1, 1)\n",
    "\n",
    "print('''\n",
    "-------- Mutational phenotype data from Markiewicz et al., J. Mol Biol., 1994 --------\n",
    "''')\n",
    "\n",
    "peptide_index = 0\n",
    "res_label_value = []\n",
    "AA_value = []\n",
    "heatmap_value = []\n",
    "\n",
    "aa = list(\"YLHACDEFGIKMNPQRSTVW\")\n",
    "\n",
    "for residue in peptide_range:\n",
    "    no_effect = []\n",
    "    small_effect = []\n",
    "    dramatic_effect = []\n",
    "    \n",
    "    # print MH group\n",
    "    for key, value in MH_dict.items(): \n",
    "        if residue == key:\n",
    "            peptide_index = peptide_index + 1\n",
    "            res_label = str(peptide_input[peptide_index-1]) + str(residue)\n",
    "            print('\\n' + res_label + ': group ' + value)\n",
    "            # print MH group description\n",
    "            for second_key, second_value in MHdescriptions_dict.items():\n",
    "                if value == second_key:\n",
    "                    print(second_value)\n",
    "                    \n",
    "    # group and print phenotype effects of specific point mutations\n",
    "    for AA in aa:\n",
    "        for key, value in mutation_dict.items():\n",
    "            if key[-1] == AA:\n",
    "                if res_label in key:\n",
    "                    if value == '+':\n",
    "                        no_effect.append(key[-1])\n",
    "                        heatmap_value.append(1)\n",
    "                        AA_value.append(AA)\n",
    "                        res_label_value.append(residue)\n",
    "                    elif value == ('+-'):\n",
    "                        small_effect.append(key[-1])\n",
    "                        heatmap_value.append(0.25)\n",
    "                        AA_value.append(AA)\n",
    "                        res_label_value.append(residue)\n",
    "                    elif value == ('-+'):\n",
    "                        small_effect.append(key[-1])\n",
    "                        heatmap_value.append(0.75)\n",
    "                        AA_value.append(AA)\n",
    "                        res_label_value.append(residue)\n",
    "                    elif value == '-':\n",
    "                        dramatic_effect.append(key[-1])\n",
    "                        heatmap_value.append(0)\n",
    "                        AA_value.append(AA)\n",
    "                        res_label_value.append(residue)\n",
    "\n",
    "    print('Mutations that do not affect the phenotype: ' + \" \".join(x for x in no_effect))\n",
    "    print('Mutations causing small effects on phenotype: ' + \" \".join(x for x in small_effect))\n",
    "    print('Mutations causing dramatic effects on phenotype: ' + \" \".join(x for x in dramatic_effect))\n",
    "\n",
    "heatmap_df = pd.DataFrame({'Phenotype': AA_value, 'Residue': res_label_value, 'Sensitivity': heatmap_value })\n",
    "# plot it\n",
    "print('\\nHeatmap'\n",
    "      '\\nDarker colors indicate increased disruption to phenotype by mutation.'\n",
    "      '\\nWhite boxes - WT residue.')\n",
    "plt.rcParams['figure.figsize'] = (10.0, 8.0)\n",
    "plt.rcParams['font.size'] = 14\n",
    "df_wide=heatmap_df.pivot_table( index='Residue', columns='Phenotype', values='Sensitivity' )\n",
    "p2=sns.heatmap( df_wide, cmap=\"YlGn_r\" )\n",
    "plt.show()"
   ]
  },
  {
   "cell_type": "markdown",
   "metadata": {},
   "source": [
    "### Finally, plot the deterium uptake plot to observe the H/D exchange for the peptide in different states. Compare with the protein structure."
   ]
  },
  {
   "cell_type": "code",
   "execution_count": null,
   "metadata": {
    "scrolled": false
   },
   "outputs": [],
   "source": [
    "# This section controls the plot.\n",
    "\n",
    "print('''\n",
    "-------- Fitted D uptake plots for selected states with structural representation --------\n",
    "''')\n",
    "\n",
    "title = str(peptide_df[\"peptide\"])\n",
    "title = title.split(' ')[4]\n",
    "title = title.split('Name')[0]\n",
    "\n",
    "figure = {'titlesize' : 'large',\n",
    "          'figsize'   : (6, 6)\n",
    "         }\n",
    "\n",
    "font = {'family' : 'Arial',\n",
    "        'weight' : 'normal',\n",
    "        'size'   : 16\n",
    "       }\n",
    "axes = {'titlesize' : 18,\n",
    "        'titleweight' : 'bold',\n",
    "        'labelsize' : 18\n",
    "       }\n",
    "\n",
    "plt.rc('figure', **figure)\n",
    "plt.rc('font', **font)\n",
    "plt.rc('axes', **axes)\n",
    "plt.rc('lines', lw = 3)\n",
    "\n",
    "plt.xscale('log')\n",
    "plt.xlabel('Time (seconds)')\n",
    "plt.ylabel('# Deuterons')\n",
    "plt.ylim(0,int(N))\n",
    "plt.title(title[:-1])\n",
    "\n",
    "for state in states_list:\n",
    "    plt.plot(t, fit_dict.get(state), label = state)\n",
    "    \n",
    "plt.legend(frameon=False)\n",
    "\n",
    "# This section controls the structure widget.\n",
    "\n",
    "view = nv.NGLWidget()\n",
    "traj = pt.load('2p9h_REDO.pdb')\n",
    "view = nv.show_pytraj(traj)\n",
    "view.add_surface(str(peptide_first_res) + \"-\" + str(peptide_last_res), color = 'orange', opacity='0.3', wireframe=True)\n",
    "view.add_ball_and_stick(str(peptide_first_res) + \"-\" + str(peptide_last_res))\n",
    "# view.add_surface('257-267',color = 'lightblue', opacity='0.3', wireframe=True)\n",
    "\n",
    "# view.add_representation('line', selection='water') # uncomment this line to see solvent\n",
    "view._set_size('400px', '400px')\n",
    "mat = [59.476009917035874 ,66.10295214971443, -76.02228809508843, 0,\n",
    "       -55.56959630110223, 95.16365469618486, 39.27191257844691, 0,\n",
    "       84.029807431962, 16.14505706800799, 79.77915091670029, 0, \n",
    "       -22.46560287475586, 17.614827632904053, -10.28352165222168, 1]\n",
    "view._set_camera_orientation(mat)\n",
    "print('''\n",
    "PDB ID: 2P9H (wild-type LacI core domain + IPTG). \n",
    "Oriented with the C-terminal subdomain at the top.\n",
    "\n",
    "Use the mouse to move the structure. \n",
    "Double-click for full-screen. Type \"R\" to zoom out, \"I\" to rotate, and \"K\" to rock.\n",
    "NGLViewer, an amazing tool: H Nguyen, DA Case and AS Rose, Bioinformatics, 2017. doi:10.1093/bioinformatics/btx789\n",
    "''')\n",
    "print('Peptide ' + title[:-1] + ', residues ' + str(peptide_first_res) + \"-\" + str(peptide_last_res) + \n",
    "      ', shown as orange surface and sticks.')\n",
    "view"
   ]
  },
  {
   "cell_type": "markdown",
   "metadata": {},
   "source": [
    "### Determine the statistical difference in H/D exchange over this timecourse among states for this peptide.\n",
    "(less reliable for very slow-exchanging peptides)"
   ]
  },
  {
   "cell_type": "code",
   "execution_count": null,
   "metadata": {
    "scrolled": false
   },
   "outputs": [],
   "source": [
    "print('''\n",
    "Independent t-tests\n",
    "Pairwise tests to determine: is a similar to b? / is a similar to c? / is b similar to c?/ etc.\n",
    "These test the null hypothesis that pairs of independent samples have identical average (expected) values.\n",
    "Assumes that the populations have identical variances.\n",
    "''')\n",
    "\n",
    "for list1, list2 in combinations(fit_dict.keys(), 2):\n",
    "    sig = \"\"\n",
    "    t_val, p_val = ttest_ind(fit_dict[list1], fit_dict[list2])\n",
    "    if p_val > 0.05:\n",
    "        sig = \"   p > 0.05\"\n",
    "    if p_val == 0:\n",
    "        sig = \"exchanges very slowly in both states\"\n",
    "    print(list1, list2, \"{:.2e}\".format(p_val), sig)\n",
    "\n",
    "print('''\n",
    "One-way ANOVA\n",
    "A combined test to determine: are a, b and c drawn from the same group?\n",
    "This tests the null hypothesis that all groups have the same population mean.\n",
    "(If there are only two groups, it's the same as a t-test.)\n",
    "''')\n",
    "\n",
    "t_val_2, p_val_2 = f_oneway(*fit_dict.values())\n",
    "print(*fit_dict.keys(), \"{:.2e}\".format(p_val_2))"
   ]
  },
  {
   "cell_type": "code",
   "execution_count": null,
   "metadata": {},
   "outputs": [],
   "source": []
  }
 ],
 "metadata": {
  "kernelspec": {
   "display_name": "Python 3",
   "language": "python",
   "name": "python3"
  },
  "language_info": {
   "codemirror_mode": {
    "name": "ipython",
    "version": 3
   },
   "file_extension": ".py",
   "mimetype": "text/x-python",
   "name": "python",
   "nbconvert_exporter": "python",
   "pygments_lexer": "ipython3",
   "version": "3.8.3"
  }
 },
 "nbformat": 4,
 "nbformat_minor": 4
}
