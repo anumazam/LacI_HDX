{
 "cells": [
  {
   "cell_type": "markdown",
   "metadata": {},
   "source": [
    "# This is a tool for looking at HDX/MS data, LacI structure, and mutational phenotypes for particular LacI peptides in one or more functional states.\n",
    "\n",
    "![LacI peptides and structure.](lacI_diagram.png)"
   ]
  },
  {
   "cell_type": "markdown",
   "metadata": {},
   "source": [
    "### First choose the state(s)."
   ]
  },
  {
   "cell_type": "code",
   "execution_count": 1,
   "metadata": {},
   "outputs": [
    {
     "name": "stdout",
     "output_type": "stream",
     "text": [
      "States: APO, DNA, ONPFDNA, IPTG, ONPF, TMG.\n",
      "Enter the states you want to see, separated by commas: DNA, ONPFDNA, TMG, IPTG\n"
     ]
    }
   ],
   "source": [
    "import pandas as pd\n",
    "import numpy as np\n",
    "import matplotlib.pyplot as plt\n",
    "import pytraj as pt\n",
    "import nglview as nv\n",
    "from itertools import combinations\n",
    "from scipy.stats import ttest_ind\n",
    "from scipy.stats import f_oneway\n",
    "\n",
    "print('States: APO, DNA, ONPFDNA, IPTG, ONPF, TMG.')\n",
    "states_input = str(input(\"Enter the states you want to see, separated by commas: \"))\n",
    "states_input = states_input.upper()\n",
    "states_input = states_input.replace(\" \", \"\")\n",
    "states_list = states_input.split(',')\n",
    "\n",
    "compiled_file = pd.ExcelFile('20200922_compiled_rates.xlsx')\n",
    "\n",
    "states_dict = {}\n",
    "for state in states_list:\n",
    "    states_dict[state] = pd.read_excel(compiled_file, state)\n",
    "\n",
    "# Make dictionaries to organize mutation information\n",
    "MH_dict = {}\n",
    "with open(\"MH_groups.txt\") as file:\n",
    "    for line in file:\n",
    "        (key, val) = line.split()\n",
    "        MH_dict[int(key)] = val\n",
    "\n",
    "mutation_dict = {}\n",
    "with open(\"single_mutants.txt\") as file:\n",
    "    for line in file:\n",
    "        (key, val) = line.split()\n",
    "        mutation_dict[key] = val\n",
    "        \n",
    "MHdescriptions_dict = {}\n",
    "with open(\"MHgroups_descriptions.txt\") as file:\n",
    "    for line in file:\n",
    "        (key, val) = line.split(':')\n",
    "        MHdescriptions_dict[key] = val"
   ]
  },
  {
   "cell_type": "markdown",
   "metadata": {},
   "source": [
    "### Next, choose a peptide."
   ]
  },
  {
   "cell_type": "code",
   "execution_count": 2,
   "metadata": {},
   "outputs": [
    {
     "name": "stdout",
     "output_type": "stream",
     "text": [
      "Enter your peptide: actnvpal\n",
      "ACTNVPAL: residues 139-146\n"
     ]
    }
   ],
   "source": [
    "peptide_input = str(input(\"Enter your peptide: \"))\n",
    "peptide_input = peptide_input.upper()\n",
    "\n",
    "list_states = states_dict.keys()\n",
    "peptide_dict = dict.fromkeys(list_states, peptide_input)\n",
    "\n",
    "for key in peptide_dict:\n",
    "    peptide_df = states_dict[key]\n",
    "    peptide_df = peptide_df[peptide_df[\"peptide\"] == peptide_input]\n",
    "    peptide_df = peptide_df[['first_res','last_res','peptide','k1','k2','k3','A','B','C']]\n",
    "    peptide_dict[key] = peptide_df\n",
    "\n",
    "peptide_first_res = int(peptide_df['first_res'])\n",
    "peptide_last_res = int(peptide_df['last_res'])\n",
    "print(peptide_input + \": residues \" + str(peptide_first_res) + \"-\" + str(peptide_last_res))"
   ]
  },
  {
   "cell_type": "markdown",
   "metadata": {},
   "source": [
    "### Construct fit functions for each peptide for each state."
   ]
  },
  {
   "cell_type": "code",
   "execution_count": 3,
   "metadata": {},
   "outputs": [],
   "source": [
    "fit_dict = dict.fromkeys(list_states)\n",
    "\n",
    "for key in peptide_dict:\n",
    "    current_table = peptide_dict.get(key)\n",
    "\n",
    "    N = current_table['A'] + current_table['B'] + current_table['C']\n",
    "\n",
    "    k1 = current_table['k1']\n",
    "    k2 = current_table['k2']\n",
    "    k3 = current_table['k3']\n",
    "    A = current_table['A']\n",
    "    B = current_table['B']\n",
    "    C = current_table['C']\n",
    "\n",
    "    t = np.logspace(0, 4.5, 1000)\n",
    "    fit_data = []\n",
    "\n",
    "    for timepoint in t:\n",
    "        fit_item = N - ( A*np.exp(-k1*timepoint) + B*np.exp(-k2*timepoint) + C*np.exp(-k3*timepoint) )\n",
    "        fit_data.append(float(fit_item))\n",
    "    \n",
    "    fit_dict[key] = fit_data"
   ]
  },
  {
   "cell_type": "markdown",
   "metadata": {},
   "source": [
    "### Finally, plot to observe the exchange for this peptide in different states. Compare with structural and mutational phenotype data."
   ]
  },
  {
   "cell_type": "code",
   "execution_count": 4,
   "metadata": {
    "scrolled": false
   },
   "outputs": [
    {
     "name": "stdout",
     "output_type": "stream",
     "text": [
      "\n",
      "-------- Mutational phenotype data from Markiewicz et al., J. Mol Biol., 1994 --------\n",
      "\n",
      "\n",
      "A139: group 6\n",
      "Solvent exposed/small, with small amino acid substitutions tolerated\n",
      "\n",
      "Mutations that do not affect the phenotype: C G S H E R\n",
      "Mutations causing small effects on phenotype: Y Q K\n",
      "Mutations causing dramatic effects on phenotype: \n",
      "\n",
      "C140: group 2\n",
      "Spacer regions, tolerant to substitutions, Ala stretches also tolerated\n",
      "\n",
      "Mutations that do not affect the phenotype: L F A G S Y H E Q K R\n",
      "Mutations causing small effects on phenotype: P\n",
      "Mutations causing dramatic effects on phenotype: \n",
      "\n",
      "T141: group 2\n",
      "Spacer regions, tolerant to substitutions, Ala stretches also tolerated\n",
      "\n",
      "Mutations that do not affect the phenotype: L F C A G S Y H E Q K R\n",
      "Mutations causing small effects on phenotype: P\n",
      "Mutations causing dramatic effects on phenotype: \n",
      "\n",
      "N142: group 2\n",
      "Spacer regions, tolerant to substitutions, Ala stretches also tolerated\n",
      "\n",
      "Mutations that do not affect the phenotype: C A G S P E Q K R\n",
      "Mutations causing small effects on phenotype: L Y H\n",
      "Mutations causing dramatic effects on phenotype: F\n",
      "\n",
      "V143: group 2\n",
      "Spacer regions, tolerant to substitutions, Ala stretches also tolerated\n",
      "\n",
      "Mutations that do not affect the phenotype: L F C A G S P H E Q K R\n",
      "Mutations causing small effects on phenotype: Y\n",
      "Mutations causing dramatic effects on phenotype: \n",
      "\n",
      "P144: group 2\n",
      "Spacer regions, tolerant to substitutions, Ala stretches also tolerated\n",
      "\n",
      "Mutations that do not affect the phenotype: L F C A G S Y H E Q K R\n",
      "Mutations causing small effects on phenotype: \n",
      "Mutations causing dramatic effects on phenotype: \n",
      "\n",
      "A145: group 3\n",
      "Buried, but tolerant to substitutions\n",
      "\n",
      "Mutations that do not affect the phenotype: L F C G S Y H E Q R\n",
      "Mutations causing small effects on phenotype: P\n",
      "Mutations causing dramatic effects on phenotype: \n",
      "\n",
      "L146: group 7\n",
      "Buried, intolerant to substitutions (I-)\n",
      "\n",
      "Mutations that do not affect the phenotype: F C A Y Q\n",
      "Mutations causing small effects on phenotype: \n",
      "Mutations causing dramatic effects on phenotype: G S P H E K R\n",
      "\n",
      "-------- Fitted D uptake plots for selected states with structural representation --------\n",
      "\n",
      "\n",
      "PDB ID: 2P9H (wild-type LacI core domain + IPTG). \n",
      "Oriented with the C-terminal subdomain at the top.\n",
      "\n",
      "Use the mouse to move the structure. \n",
      "Double-click for full-screen. Type \"R\" to zoom out, \"I\" to rotate, and \"K\" to rock.\n",
      "NGLViewer, an amazing tool: H Nguyen, DA Case and AS Rose, Bioinformatics, 2017. doi:10.1093/bioinformatics/btx789\n",
      "\n",
      "Peptide ACTNVPAL, residues 139-146, shown as orange surface and sticks.\n"
     ]
    },
    {
     "data": {
      "application/vnd.jupyter.widget-view+json": {
       "model_id": "b7bd5d333f2c461c97bf282d0c0650de",
       "version_major": 2,
       "version_minor": 0
      },
      "text/plain": [
       "NGLWidget()"
      ]
     },
     "metadata": {},
     "output_type": "display_data"
    },
    {
     "data": {
      "image/png": "[encoded data removed]",
      "text/plain": [
       "<Figure size 432x432 with 1 Axes>"
      ]
     },
     "metadata": {
      "needs_background": "light"
     },
     "output_type": "display_data"
    }
   ],
   "source": [
    "# This section controls the mutation information.\n",
    "\n",
    "peptide_range = range(peptide_first_res, peptide_last_res + 1, 1)\n",
    "\n",
    "print('''\n",
    "-------- Mutational phenotype data from Markiewicz et al., J. Mol Biol., 1994 --------\n",
    "''')\n",
    "\n",
    "peptide_index = 0\n",
    "\n",
    "for residue in peptide_range:\n",
    "    no_effect = []\n",
    "    small_effect = []\n",
    "    dramatic_effect = []\n",
    "    \n",
    "    # print MH group\n",
    "    for key, value in MH_dict.items(): \n",
    "        if residue == key:\n",
    "            peptide_index = peptide_index + 1\n",
    "            res_label = str(peptide_input[peptide_index-1]) + str(residue)\n",
    "            print('\\n' + res_label + ': group ' + value)\n",
    "            # print MH group description\n",
    "            for second_key, second_value in MHdescriptions_dict.items():\n",
    "                if value == second_key:\n",
    "                    print(second_value)\n",
    "                    \n",
    "    # group and print phenotype effects of specific point mutations\n",
    "    for key, value in mutation_dict.items():\n",
    "        if res_label in key:\n",
    "            if value == '+':\n",
    "                no_effect.append(key[-1])\n",
    "            elif value == ('-+' or '+-'):\n",
    "                small_effect.append(key[-1])\n",
    "            elif value == '-':\n",
    "                dramatic_effect.append(key[-1])\n",
    "                \n",
    "    print('Mutations that do not affect the phenotype: ' + \" \".join(x for x in no_effect))\n",
    "    print('Mutations causing small effects on phenotype: ' + \" \".join(x for x in small_effect))\n",
    "    print('Mutations causing dramatic effects on phenotype: ' + \" \".join(x for x in dramatic_effect))\n",
    "\n",
    "\n",
    "# This section controls the plot.\n",
    "\n",
    "print('''\n",
    "-------- Fitted D uptake plots for selected states with structural representation --------\n",
    "''')\n",
    "\n",
    "title = str(peptide_df[\"peptide\"])\n",
    "title = title.split(' ')[4]\n",
    "title = title.split('Name')[0]\n",
    "\n",
    "figure = {'titlesize' : 'large',\n",
    "          'figsize'   : (6, 6)\n",
    "         }\n",
    "\n",
    "font = {'family' : 'Arial',\n",
    "        'weight' : 'normal',\n",
    "        'size'   : 16\n",
    "       }\n",
    "axes = {'titlesize' : 18,\n",
    "        'titleweight' : 'bold',\n",
    "        'labelsize' : 18\n",
    "       }\n",
    "\n",
    "plt.rc('figure', **figure)\n",
    "plt.rc('font', **font)\n",
    "plt.rc('axes', **axes)\n",
    "plt.rc('lines', lw = 3)\n",
    "\n",
    "plt.xscale('log')\n",
    "plt.xlabel('Time (seconds)')\n",
    "plt.ylabel('# Deuterons')\n",
    "plt.ylim(0,int(N))\n",
    "plt.title(title[:-1])\n",
    "\n",
    "for state in states_list:\n",
    "    plt.plot(t, fit_dict.get(state), label = state)\n",
    "    \n",
    "plt.legend(frameon=False)\n",
    "\n",
    "# This section controls the structure widget.\n",
    "\n",
    "view = nv.NGLWidget()\n",
    "traj = pt.load('2p9h_REDO.pdb')\n",
    "view = nv.show_pytraj(traj)\n",
    "view.add_surface(str(peptide_first_res) + \"-\" + str(peptide_last_res), color = 'orange', opacity='0.3', wireframe=True)\n",
    "view.add_ball_and_stick(str(peptide_first_res) + \"-\" + str(peptide_last_res))\n",
    "# view.add_representation('line', selection='water') # uncomment this line to see solvent\n",
    "view._set_size('400px', '400px')\n",
    "mat = [59.476009917035874 ,66.10295214971443, -76.02228809508843, 0,\n",
    "       -55.56959630110223, 95.16365469618486, 39.27191257844691, 0,\n",
    "       84.029807431962, 16.14505706800799, 79.77915091670029, 0, \n",
    "       -22.46560287475586, 17.614827632904053, -10.28352165222168, 1]\n",
    "view._set_camera_orientation(mat)\n",
    "print('''\n",
    "PDB ID: 2P9H (wild-type LacI core domain + IPTG). \n",
    "Oriented with the C-terminal subdomain at the top.\n",
    "\n",
    "Use the mouse to move the structure. \n",
    "Double-click for full-screen. Type \"R\" to zoom out, \"I\" to rotate, and \"K\" to rock.\n",
    "NGLViewer, an amazing tool: H Nguyen, DA Case and AS Rose, Bioinformatics, 2017. doi:10.1093/bioinformatics/btx789\n",
    "''')\n",
    "print('Peptide ' + title[:-1] + ', residues ' + str(peptide_first_res) + \"-\" + str(peptide_last_res) + \n",
    "      ', shown as orange surface and sticks.')\n",
    "view"
   ]
  },
  {
   "cell_type": "markdown",
   "metadata": {},
   "source": [
    "### Determine the statistical difference in H/D exchange over this timecourse among states for this peptide."
   ]
  },
  {
   "cell_type": "code",
   "execution_count": 5,
   "metadata": {},
   "outputs": [
    {
     "name": "stdout",
     "output_type": "stream",
     "text": [
      "\n",
      "Independent t-tests\n",
      "Pairwise tests to determine: is a similar to b? / is a similar to c? / is b similar to c?/ etc.\n",
      "These test the null hypothesis that pairs of independent samples have identical average (expected) values.\n",
      "Assumes that the populations have identical variances.\n",
      "\n",
      "DNA ONPFDNA 0.0006532924467064519\n",
      "DNA TMG 6.3930204736033304e-43\n",
      "DNA IPTG 2.2749571443133823e-44\n",
      "ONPFDNA TMG 2.990176728774982e-71\n",
      "ONPFDNA IPTG 1.1556141458829074e-74\n",
      "TMG IPTG 0.7706230141369828\n",
      "\n",
      "One-way ANOVA\n",
      "A combined test to determine: are a, b and c drawn from the same group?\n",
      "This tests the null hypothesis that all groups have the same population mean.\n",
      "(If there are only two groups, it's the same as a t-test.)\n",
      "\n",
      "DNA ONPFDNA TMG IPTG 3.5234391699187416e-112\n"
     ]
    }
   ],
   "source": [
    "# compare_states_input = str(input(\"Enter two states to compare, separated by a comma: \"))\n",
    "# compare_states_input = compare_states_input.upper()\n",
    "# compare_states_input = compare_states_input.replace(\" \", \"\")\n",
    "# compare_states_list = compare_states_input.split(',')\n",
    "\n",
    "# states_diff = [0]\n",
    "\n",
    "# zipped_states_diff = zip(fit_dict.get(compare_states_list[0]), fit_dict.get(compare_states_list[1]))\n",
    "# for list1_i, list2_i in zipped_states_diff:\n",
    "#     states_diff.append(list1_i-list2_i)\n",
    "    \n",
    "# max_diff = len(t)*N\n",
    "\n",
    "# percent_diff = ((sum(states_diff)/max_diff) * 100)\n",
    "\n",
    "# if (percent_diff < 0).bool():\n",
    "#     percent_diff = -(percent_diff)\n",
    "#     print('The ' + compare_states_list[1] + ' state exchanges ' + \"%.2f\" % percent_diff + \n",
    "#           '% more than the ' + compare_states_list[0] + ' state over this timecourse.')\n",
    "\n",
    "# else:\n",
    "#     print('The ' + compare_states_list[0] + ' state exchanges ' + \"%.2f\" % percent_diff + \n",
    "#           '% more than the ' + compare_states_list[1] + ' state over this timecourse.')\n",
    "\n",
    "print('''\n",
    "Independent t-tests\n",
    "Pairwise tests to determine: is a similar to b? / is a similar to c? / is b similar to c?/ etc.\n",
    "These test the null hypothesis that pairs of independent samples have identical average (expected) values.\n",
    "Assumes that the populations have identical variances.\n",
    "''')\n",
    "\n",
    "for list1, list2 in combinations(fit_dict.keys(), 2):\n",
    "    t_val, p_val = ttest_ind(fit_dict[list1], fit_dict[list2])\n",
    "    print(list1, list2, p_val)\n",
    "\n",
    "print('''\n",
    "One-way ANOVA\n",
    "A combined test to determine: are a, b and c drawn from the same group?\n",
    "This tests the null hypothesis that all groups have the same population mean.\n",
    "(If there are only two groups, it's the same as a t-test.)\n",
    "''')\n",
    "\n",
    "t_val_2, p_val_2 = f_oneway(*fit_dict.values())\n",
    "print(*fit_dict.keys(), p_val_2)"
   ]
  },
  {
   "cell_type": "code",
   "execution_count": null,
   "metadata": {},
   "outputs": [],
   "source": []
  }
 ],
 "metadata": {
  "kernelspec": {
   "display_name": "Python 3",
   "language": "python",
   "name": "python3"
  },
  "language_info": {
   "codemirror_mode": {
    "name": "ipython",
    "version": 3
   },
   "file_extension": ".py",
   "mimetype": "text/x-python",
   "name": "python",
   "nbconvert_exporter": "python",
   "pygments_lexer": "ipython3",
   "version": "3.8.3"
  }
 },
 "nbformat": 4,
 "nbformat_minor": 4
}
