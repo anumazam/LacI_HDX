{
 "cells": [
  {
   "cell_type": "markdown",
   "metadata": {},
   "source": [
    "# Statistical analysis of HDX/MS data for curated LacI peptides in one or more functional states."
   ]
  },
  {
   "cell_type": "markdown",
   "metadata": {},
   "source": [
    "### First choose the state(s)."
   ]
  },
  {
   "cell_type": "code",
   "execution_count": 1,
   "metadata": {},
   "outputs": [
    {
     "data": {
      "application/vnd.jupyter.widget-view+json": {
       "model_id": "06c99d568163475aa3cb5ec82b4966ee",
       "version_major": 2,
       "version_minor": 0
      },
      "text/plain": []
     },
     "metadata": {},
     "output_type": "display_data"
    },
    {
     "name": "stdout",
     "output_type": "stream",
     "text": [
      "Choose from the following functional states: \n"
     ]
    },
    {
     "data": {
      "application/vnd.jupyter.widget-view+json": {
       "model_id": "665aed3982d94324ad553d3de4f1a958",
       "version_major": 2,
       "version_minor": 0
      },
      "text/plain": [
       "Checkbox(value=True, description='IPTG, an inducer molecule')"
      ]
     },
     "metadata": {},
     "output_type": "display_data"
    },
    {
     "data": {
      "application/vnd.jupyter.widget-view+json": {
       "model_id": "63e293cc5db445d7b5b66fbf3c5edbb9",
       "version_major": 2,
       "version_minor": 0
      },
      "text/plain": [
       "Checkbox(value=True, description='ONPF, an anti-inducer molecule')"
      ]
     },
     "metadata": {},
     "output_type": "display_data"
    },
    {
     "data": {
      "application/vnd.jupyter.widget-view+json": {
       "model_id": "12d6e76b138548b2b429abea5b9749db",
       "version_major": 2,
       "version_minor": 0
      },
      "text/plain": [
       "Checkbox(value=False, description='APO protein')"
      ]
     },
     "metadata": {},
     "output_type": "display_data"
    },
    {
     "data": {
      "application/vnd.jupyter.widget-view+json": {
       "model_id": "edffb99aa79240dcb677ecab872c256f",
       "version_major": 2,
       "version_minor": 0
      },
      "text/plain": [
       "Checkbox(value=True, description='operator DNA')"
      ]
     },
     "metadata": {},
     "output_type": "display_data"
    },
    {
     "data": {
      "application/vnd.jupyter.widget-view+json": {
       "model_id": "89038628a4c646e4b8a0081776f661e1",
       "version_major": 2,
       "version_minor": 0
      },
      "text/plain": [
       "Checkbox(value=False, description='TMG, an inducer molecule')"
      ]
     },
     "metadata": {},
     "output_type": "display_data"
    },
    {
     "data": {
      "application/vnd.jupyter.widget-view+json": {
       "model_id": "0ad2c967dbf245f1afc077eb4b0e50b6",
       "version_major": 2,
       "version_minor": 0
      },
      "text/plain": [
       "Checkbox(value=False, description='ONPF and operator DNA')"
      ]
     },
     "metadata": {},
     "output_type": "display_data"
    }
   ],
   "source": [
    "import pandas as pd\n",
    "import numpy as np\n",
    "import math\n",
    "import matplotlib.pyplot as plt\n",
    "import pytraj as pt\n",
    "import nglview as nv\n",
    "from itertools import combinations\n",
    "from scipy.stats import ttest_ind\n",
    "from scipy.stats import f_oneway\n",
    "import seaborn as sns\n",
    "import ipywidgets as widgets\n",
    "from scipy.optimize import curve_fit\n",
    "from matplotlib.ticker import FormatStrFormatter\n",
    "\n",
    "\n",
    "print('Choose from the following functional states: ')\n",
    "CBwidget_IPTG = widgets.Checkbox(description = 'IPTG, an inducer molecule', value=True, disabled=False)\n",
    "CBwidget_ONPF = widgets.Checkbox(description = 'ONPF, an anti-inducer molecule', value=True, disabled=False)\n",
    "CBwidget_APO = widgets.Checkbox(description = 'APO protein', value=False, disabled=False)\n",
    "CBwidget_DNA = widgets.Checkbox(description = 'operator DNA', value=True, disabled=False)\n",
    "CBwidget_TMG = widgets.Checkbox(description = 'TMG, an inducer molecule', value=False, disabled=False)\n",
    "CBwidget_ONPFDNA = widgets.Checkbox(description = 'ONPF and operator DNA', value=False, disabled=False)\n",
    "\n",
    "display(CBwidget_IPTG, CBwidget_ONPF, CBwidget_APO, CBwidget_DNA, CBwidget_TMG, CBwidget_ONPFDNA)"
   ]
  },
  {
   "cell_type": "code",
   "execution_count": 2,
   "metadata": {
    "scrolled": false
   },
   "outputs": [
    {
     "name": "stdout",
     "output_type": "stream",
     "text": [
      "Chosen states:\n",
      "IPTG ONPF APO DNA TMG ONPFDNA\n"
     ]
    }
   ],
   "source": [
    "states_list = []\n",
    "\n",
    "if CBwidget_IPTG.value == True:\n",
    "    states_list.append('IPTG')\n",
    "if CBwidget_ONPF.value == True:\n",
    "    states_list.append('ONPF')\n",
    "if CBwidget_APO.value == True:\n",
    "    states_list.append('APO')\n",
    "if CBwidget_DNA.value == True:\n",
    "    states_list.append('DNA')\n",
    "if CBwidget_TMG.value == True:\n",
    "    states_list.append('TMG')\n",
    "if CBwidget_ONPFDNA.value == True:\n",
    "    states_list.append('ONPFDNA')\n",
    "\n",
    "print('Chosen states:'); print(*states_list)\n",
    "\n",
    "res_peptides_file = pd.ExcelFile('peptide_list.xlsx')\n",
    "\n",
    "states_dict = {}\n",
    "peptide_states_list = ['peptide']\n",
    "for state in states_list:\n",
    "    states_dict[state] = pd.read_excel(res_peptides_file)\n",
    "    peptide_states_list.append(state)\n",
    "        \n",
    "single_state_dict = states_dict.get(states_list[0])\n",
    "all_peptides = single_state_dict[['peptide']].values.tolist()\n",
    "all_peptides_2 = []\n",
    "first_res = single_state_dict[['first_res']].values.tolist()\n",
    "index = 0\n",
    "\n",
    "while index < len(all_peptides):\n",
    "    current_first_res = str(int(first_res[index][0]))\n",
    "    all_peptides_2.append(current_first_res + ' - ' + all_peptides[index][0])\n",
    "    index = index + 1"
   ]
  },
  {
   "cell_type": "markdown",
   "metadata": {},
   "source": [
    "### Compile exchange information for each peptide for chosen states."
   ]
  },
  {
   "cell_type": "code",
   "execution_count": 3,
   "metadata": {},
   "outputs": [],
   "source": [
    "############\n",
    "\n",
    "def getIndexes(dfObj, value):\n",
    "    listOfPos = []\n",
    "    result = dfObj.isin([value])\n",
    "    seriesObj = result.any()\n",
    "    columnNames = list(seriesObj[seriesObj == True].index)\n",
    "    for col in columnNames:\n",
    "        rows = list(result[col][result[col] == True].index)\n",
    "        for row in rows:\n",
    "            listOfPos.append((row, col))\n",
    "    return listOfPos\n",
    "\n",
    "############\n",
    "\n",
    "# create dictionary keys from peptides\n",
    "# in subsequent code: add state and each TP avg exchange measurements as values for peptide keys\n",
    "peptide_exchange_dict = {}\n",
    "for peptide in all_peptides:\n",
    "    peptide_exchange_dict[peptide[0]] = []\n",
    "\n",
    "for state in states_dict:\n",
    "    i = 0 # peptide counter\n",
    "    for peptide in states_dict[state]['peptide']:\n",
    "        peptide_first_res = states_dict[state]['first_res'][i]\n",
    "        peptide_last_res = states_dict[state]['last_res'][i]\n",
    "\n",
    "        peptide_file = pd.ExcelFile('~/Dropbox/Research/Data/HDX/20200816/20200819_fitting/' + str(peptide_first_res)\n",
    "                                    + '_' + str(peptide_last_res) + '_' + peptide + '_fitting.xlsx')\n",
    "        raw_df = pd.read_excel(peptide_file, 'Peptide SD', nrows = 15)\n",
    "        \n",
    "        column_vals = []\n",
    "        listOfPositions = getIndexes(raw_df, state)\n",
    "        for j in range(len(listOfPositions)):\n",
    "            temp_string = (listOfPositions[j][1])\n",
    "            position = int(temp_string[-2:])\n",
    "            column_vals.append(position) # columns in spreadsheet corresponding to data label\n",
    "\n",
    "        peptide_exchange = {}\n",
    "        for element in column_vals:\n",
    "            if state.lower() == (raw_df.iloc[2][element]).lower():\n",
    "                peptide_exchange[state] = list(raw_df.iloc[4:13,element+2])\n",
    "        \n",
    "        peptide_exchange_dict[peptide].append(peptide_exchange)\n",
    "        \n",
    "        i = i + 1"
   ]
  },
  {
   "cell_type": "markdown",
   "metadata": {},
   "source": [
    "### Plot H/D exchange functions as uptake plots for each peptide for each state."
   ]
  },
  {
   "cell_type": "code",
   "execution_count": 4,
   "metadata": {
    "scrolled": false
   },
   "outputs": [],
   "source": [
    "# fitting\n",
    "\n",
    "def exchange_fit(x, a, b, c, d, e, f, g):\n",
    "    max_protons = a + b + c + g - 2 - num_prolines\n",
    "    d > e\n",
    "    e > f\n",
    "    d > f\n",
    "    return max_protons - a * np.exp(-d * x) - b * np.exp(-e * x) - c * np.exp(-f * x) - g\n",
    "\n",
    "def exchange_fit_low(x, b, c, e, f, g):\n",
    "    max_protons = b + c + g - 2 - num_prolines\n",
    "    e > f\n",
    "    return max_protons - b * np.exp(-e * x) - c * np.exp(-f * x) - g\n",
    "\n",
    "timepoints = [0, 30, 45, 60, 300, 1500, 3600, 7200, 14400]\n",
    "trialT = np.logspace(1.5, 4.5, 10000)\n",
    "\n",
    "\n",
    "# create dictionary keys from peptides\n",
    "# in subsequent code: add state and FITS (long vectors) as values for peptide keys (peptide_fit_dict)\n",
    "# add state and popt curvefit PARAMS for peptide keys (peptide_params_dict)\n",
    "\n",
    "peptide_fit_dict = {}\n",
    "peptide_params_dict = {}\n",
    "for peptide in all_peptides:\n",
    "    peptide_fit_dict[peptide[0]] = []\n",
    "    peptide_params_dict[peptide[0]] = []\n",
    "\n",
    "for peptide in peptide_exchange_dict:\n",
    "\n",
    "    num_prolines = peptide[2:].count('P')\n",
    "    max_protons = len(peptide) - 2 - num_prolines\n",
    "    \n",
    "    for element in peptide_exchange_dict.get(peptide): # element is state\n",
    "        [exchange_list] = element.values() # these are the avg tp measurements for the state\n",
    "        \n",
    "        for state in element.keys():\n",
    "\n",
    "            # create sub-dictionaries that links state (key) to fits or params (values),\n",
    "            # then add sub-dicts as values to peptide_fit_dict or peptide_params_dict\n",
    "            \n",
    "            sub_fit_dict = {}\n",
    "            sub_params_dict = {}\n",
    "            \n",
    "            p1_index = 0\n",
    "            peptide1_tps = []\n",
    "            peptide1_ex = []\n",
    "            for tp in exchange_list:\n",
    "                if not math.isnan(float(tp)):\n",
    "                    peptide1_tps.append(timepoints[p1_index])\n",
    "                    peptide1_ex.append(float(tp))\n",
    "                p1_index = p1_index + 1\n",
    "\n",
    "            if peptide1_ex[-1] > .5:\n",
    "\n",
    "                popt, pcov = curve_fit(f = exchange_fit, xdata = peptide1_tps, ydata = peptide1_ex,\n",
    "                                       bounds = (0, [max_protons, max_protons, max_protons, 1, .1, .01, max_protons]),\n",
    "                                       maxfev = 100000)\n",
    "                exchange_peptide1 = exchange_fit(trialT, *popt)\n",
    "                perr = np.sqrt(np.diag(pcov))\n",
    "\n",
    "            else:\n",
    "\n",
    "                popt, pcov = curve_fit(f = exchange_fit_low, xdata = peptide1_tps, ydata = peptide1_ex,\n",
    "                                       bounds = (0, [max_protons, max_protons, .1, .01, max_protons]),\n",
    "                                       maxfev = 100000)\n",
    "                exchange_peptide1 = exchange_fit_low(trialT, *popt)\n",
    "                perr = np.sqrt(np.diag(pcov))\n",
    "\n",
    "            sub_fit_dict[state] = exchange_peptide1\n",
    "            sub_params_dict[state] = popt\n",
    "            peptide_fit_dict[peptide].append(sub_fit_dict)\n",
    "            peptide_params_dict[peptide].append(sub_params_dict)"
   ]
  },
  {
   "cell_type": "code",
   "execution_count": 5,
   "metadata": {},
   "outputs": [],
   "source": [
    "# plotting\n",
    "    \n",
    "font = {'family' : 'Arial',\n",
    "        'weight' : 'normal',\n",
    "        'size'   : 36\n",
    "       }\n",
    "axes = {'titlesize' : 36,\n",
    "        'titleweight' : 'bold',\n",
    "        'labelsize' : 36\n",
    "       }\n",
    "\n",
    "plt.rc('font', **font)\n",
    "plt.rc('axes', **axes)\n",
    "plt.rc('lines', lw = 3)\n",
    "color_dict = {\n",
    "    'IPTG' : 'blue',\n",
    "    'ONPF' : 'orange',\n",
    "    'APO' : 'green',\n",
    "    'DNA' : 'red',\n",
    "    'TMG' : 'gray',\n",
    "    'ONPFDNA' : 'purple'\n",
    "    }\n",
    "\n",
    "figure, (ax1) = plt.subplots(1, 1, figsize=(9,8))\n",
    "\n",
    "for peptide in peptide_exchange_dict:\n",
    "    for element in peptide_exchange_dict.get(peptide):\n",
    "        for state in element:\n",
    "            ax1.plot(timepoints, element.get(state), 'o', label = state, markersize = 18, alpha = 0.5, \n",
    "                     color = color_dict.get(state))\n",
    "            for element_2 in peptide_fit_dict.get(peptide):\n",
    "                for e2_key in element_2:\n",
    "                    if e2_key == state:\n",
    "                        ax1.plot(trialT, element_2.get(state), '-', color = color_dict.get(state))\n",
    "            for list_item in all_peptides_2:\n",
    "                title_string = \"- \" + peptide\n",
    "                y_lim = len(peptide) - 2 - peptide[2:].count('P') + 0.25\n",
    "                if list_item.endswith(title_string):\n",
    "                    plot_title = list_item\n",
    "\n",
    "    ax1.set_ylabel('# Deuterons')\n",
    "    ax1.set_xlabel('Time (seconds)')\n",
    "    ax1.set_title(plot_title)\n",
    "    ax1.set_xscale('log')\n",
    "    ax1.set_ylim(0, y_lim)\n",
    "    ax1.yaxis.set_major_formatter(FormatStrFormatter('%.1f'))\n",
    "\n",
    "    plt.legend(frameon = False, bbox_to_anchor=(1.03, 1.03))\n",
    "    # plt.show()\n",
    "    plt.savefig('temp_plots/' + plot_title + '.pdf', bbox_inches='tight')\n",
    "    ax1.clear() \n",
    "plt.close()"
   ]
  },
  {
   "cell_type": "markdown",
   "metadata": {},
   "source": [
    "### Compute differential HDX expressions."
   ]
  },
  {
   "cell_type": "code",
   "execution_count": 6,
   "metadata": {},
   "outputs": [
    {
     "name": "stdout",
     "output_type": "stream",
     "text": [
      "Choose two states from which to compute differential HDX expressions: \n"
     ]
    },
    {
     "data": {
      "application/vnd.jupyter.widget-view+json": {
       "model_id": "2b7414f8673548d9b1fd1bd837b7b706",
       "version_major": 2,
       "version_minor": 0
      },
      "text/plain": [
       "Checkbox(value=True, description='IPTG')"
      ]
     },
     "metadata": {},
     "output_type": "display_data"
    },
    {
     "data": {
      "application/vnd.jupyter.widget-view+json": {
       "model_id": "03c5ad52ae98433fa0152a4c9b81c6e5",
       "version_major": 2,
       "version_minor": 0
      },
      "text/plain": [
       "Checkbox(value=True, description='ONPF')"
      ]
     },
     "metadata": {},
     "output_type": "display_data"
    },
    {
     "data": {
      "application/vnd.jupyter.widget-view+json": {
       "model_id": "2bc57378af4644bba5c1fdb86c80e4cc",
       "version_major": 2,
       "version_minor": 0
      },
      "text/plain": [
       "Checkbox(value=True, description='APO')"
      ]
     },
     "metadata": {},
     "output_type": "display_data"
    },
    {
     "data": {
      "application/vnd.jupyter.widget-view+json": {
       "model_id": "a7ea15377df0449b85bcf9e6aacee967",
       "version_major": 2,
       "version_minor": 0
      },
      "text/plain": [
       "Checkbox(value=True, description='DNA')"
      ]
     },
     "metadata": {},
     "output_type": "display_data"
    },
    {
     "data": {
      "application/vnd.jupyter.widget-view+json": {
       "model_id": "a9f253a94d044e638da3170d236cb15e",
       "version_major": 2,
       "version_minor": 0
      },
      "text/plain": [
       "Checkbox(value=True, description='TMG')"
      ]
     },
     "metadata": {},
     "output_type": "display_data"
    },
    {
     "data": {
      "application/vnd.jupyter.widget-view+json": {
       "model_id": "65abde2abed848cd9cf3d04606a718c3",
       "version_major": 2,
       "version_minor": 0
      },
      "text/plain": [
       "Checkbox(value=True, description='ONPFDNA')"
      ]
     },
     "metadata": {},
     "output_type": "display_data"
    }
   ],
   "source": [
    "if len(states_list) == 1:\n",
    "    print('Data for at least two states is required to do these calculations.')\n",
    "else:\n",
    "    possible_states = []\n",
    "    print('Choose two states from which to compute differential HDX expressions: ')\n",
    "    for state in states_list:\n",
    "        CBwidget_name = widgets.Checkbox(description = state, value=True, disabled=False)\n",
    "        display(CBwidget_name)\n",
    "        possible_states.append(CBwidget_name)"
   ]
  },
  {
   "cell_type": "code",
   "execution_count": 19,
   "metadata": {},
   "outputs": [
    {
     "name": "stdout",
     "output_type": "stream",
     "text": [
      "Chosen states for differential HDX expressions:\n",
      "IPTG ONPF\n",
      "\n"
     ]
    },
    {
     "data": {
      "text/plain": [
       "Text(0.5, 1.0, 'dHXt, IPTG - ONPF')"
      ]
     },
     "execution_count": 19,
     "metadata": {},
     "output_type": "execute_result"
    },
    {
     "data": {
      "image/png": "[encoded data removed]",
      "text/plain": [
       "<Figure size 900x1296 with 2 Axes>"
      ]
     },
     "metadata": {
      "needs_background": "light"
     },
     "output_type": "display_data"
    }
   ],
   "source": [
    "diff_states_list = []\n",
    "for state in possible_states:\n",
    "    if state.value == True:\n",
    "        diff_states_list.append(state)\n",
    "\n",
    "if len(diff_states_list) != 2:\n",
    "    print('Please choose exactly two states from the list above.')\n",
    "    \n",
    "else:\n",
    "    import re\n",
    "    found_states = []\n",
    "    for state in diff_states_list:\n",
    "        state = str(state)\n",
    "        m = re.search(\"'(.+?)'\", state)\n",
    "        found_states.append(m.group(1))      \n",
    "\n",
    "print('Chosen states for differential HDX expressions:'); print(*found_states); print()\n",
    "\n",
    "# create dictionary for deuteration differences at all HDX tps\n",
    "\n",
    "dDt_tps_dict = {}\n",
    "\n",
    "for peptide in peptide_exchange_dict:\n",
    "    dDt_tps = []\n",
    "    for element in peptide_exchange_dict.get(peptide):\n",
    "        for key in element:\n",
    "            if key in found_states:\n",
    "                dDt_tps.append(np.array(element.get(key)))\n",
    "    dDt_tps = (dDt_tps[0] - dDt_tps[1])/(len(peptide) - 2 - peptide[2:].count('P'))\n",
    "    dDt_tps_dict[peptide] = dDt_tps\n",
    "    \n",
    "# generating lists for heatmap\n",
    "heatmap_timepoints = timepoints * 57\n",
    "\n",
    "heatmap_peptides = []\n",
    "for peptide in all_peptides:\n",
    "    temp_peptides = []\n",
    "    temp_peptides.append(peptide)\n",
    "    temp_peptides = temp_peptides * 9\n",
    "    heatmap_peptides.append(temp_peptides)\n",
    "    flat_list = []\n",
    "    for sublist in heatmap_peptides:\n",
    "        for item in sublist:\n",
    "            flat_list.append(item)\n",
    "    heatmap_peptides_flat = []\n",
    "    for sublist in flat_list:\n",
    "        for item in sublist:\n",
    "            heatmap_peptides_flat.append(item)\n",
    "\n",
    "heatmap_values = []\n",
    "for dDt_tp in dDt_tps_dict.values():\n",
    "    for tp in dDt_tp:\n",
    "        heatmap_values.append(tp)\n",
    "\n",
    "heatmap_df = pd.DataFrame({'Timepoints (s)': heatmap_timepoints, 'Peptides': heatmap_peptides_flat, \n",
    "                           'Sensitivity': heatmap_values })\n",
    "# plot it\n",
    "df_wide = heatmap_df.pivot_table( index='Peptides', columns='Timepoints (s)', values='Sensitivity' )\n",
    "plt = sns.heatmap( df_wide, cmap=\"RdBu\" )\n",
    "plt.set_title('dHXt, ' + found_states[0] + ' - ' + found_states[1])"
   ]
  },
  {
   "cell_type": "code",
   "execution_count": null,
   "metadata": {},
   "outputs": [],
   "source": []
  },
  {
   "cell_type": "markdown",
   "metadata": {},
   "source": [
    "### Graph exchange parameters against each other for selected states."
   ]
  },
  {
   "cell_type": "code",
   "execution_count": null,
   "metadata": {
    "scrolled": false
   },
   "outputs": [],
   "source": [
    "            \n",
    "# for key in peptide_params_dict.keys():\n",
    "#     print(key)\n",
    "#     print(len(peptide_params_dict.get(key)))\n",
    "#     print(peptide_params_dict.get(key)[0])\n",
    "#     print(peptide_params_dict.get(key)[1])\n",
    "#     print(peptide_params_dict.get(key)[2])\n",
    "#     for x in peptide_params_dict.get(key)[2].values():\n",
    "#         for y in x:\n",
    "#             print(y)\n",
    "\n",
    "compare_med_dict = {}\n",
    "for [peptide] in all_peptides:\n",
    "    compare_med_dict[peptide] = []\n",
    "    \n",
    "compare_med_dict_ = {}\n",
    "for [peptide] in all_peptides:\n",
    "    compare_med_dict_[peptide] = []\n",
    "\n",
    "state1 = str(peptide_params_dict.get(peptide)[0].keys())\n",
    "state1 = state1[12:-3]\n",
    "print(state1)\n",
    "\n",
    "state2 = str(peptide_params_dict.get(peptide)[1].keys())\n",
    "state2 = state2[12:-3]\n",
    "print(state2)\n",
    "\n",
    "state3 = str(peptide_params_dict.get(peptide)[2].keys())\n",
    "state3 = state3[12:-3]\n",
    "print(state3)\n",
    "\n",
    "#     return max_protons - a * np.exp(-d * x) - b * np.exp(-e * x) - c * np.exp(-f * x) - g\n",
    "#     return max_protons - b * np.exp(-e * x) - c * np.exp(-f * x) - g\n",
    "\n",
    "for peptide in peptide_params_dict.keys():\n",
    "    state1_params = []\n",
    "    for x in peptide_params_dict.get(peptide)[0].values(): \n",
    "        for y in x:\n",
    "            state1_params.append(y)\n",
    "    if len(state1_params) > 5:\n",
    "        state1_med = (state1_params[1]*state1_params[4]) + (state1_params[2]*state1_params[5])\n",
    "    else:\n",
    "        state1_med = (state1_params[0]*state1_params[3]) + (state1_params[1]*state1_params[4])\n",
    "    \n",
    "    state2_params = []\n",
    "    for x in peptide_params_dict.get(peptide)[1].values(): \n",
    "        for y in x:\n",
    "            state2_params.append(y)\n",
    "    if len(state2_params) > 5:\n",
    "        state2_med = (state2_params[1]*state2_params[4]) + (state2_params[2]*state2_params[5])\n",
    "    else:\n",
    "        state2_med = (state2_params[0]*state2_params[3]) + (state2_params[1]*state2_params[4])\n",
    "        \n",
    "    state3_params = []\n",
    "    for x in peptide_params_dict.get(peptide)[2].values(): \n",
    "        for y in x:\n",
    "            state3_params.append(y)\n",
    "    if len(state3_params) > 5:\n",
    "        state3_med = (state3_params[1]*state3_params[4]) + (state3_params[2]*state3_params[5])\n",
    "    else:\n",
    "        state3_med = (state3_params[0]*state3_params[3]) + (state3_params[1]*state3_params[4])\n",
    "        \n",
    "    temp_tuple = (state1_med, state2_med)\n",
    "    compare_med_dict[peptide] = temp_tuple\n",
    "    \n",
    "    temp_tuple_ = (state2_med, state3_med)\n",
    "    compare_med_dict_[peptide] = temp_tuple_\n",
    "\n",
    "font = {'family' : 'Arial',\n",
    "        'weight' : 'normal',\n",
    "        'size'   : 18\n",
    "       }\n",
    "axes = {'titlesize' : 24,\n",
    "        'titleweight' : 'bold',\n",
    "        'labelsize' : 24\n",
    "       }\n",
    "\n",
    "plt.rc('font', **font)\n",
    "plt.rc('axes', **axes)\n",
    "plt.rc('lines', lw = 3)\n",
    "    \n",
    "figure, (ax1, ax2) = plt.subplots(1, 2, figsize=(16,6))\n",
    "\n",
    "for key in compare_med_dict:\n",
    "    ax1.plot(compare_med_dict.get(key)[0], compare_med_dict.get(key)[1], 'o', markersize = 10 )\n",
    "#     ax1.annotate(key, (compare_med_dict.get(key)[0], compare_med_dict.get(key)[1]), font = 'Arial', fontsize = 10)\n",
    "for key in compare_med_dict_:\n",
    "    ax2.plot(compare_med_dict_.get(key)[1], compare_med_dict_.get(key)[0], 'o', markersize = 10)\n",
    "#     ax2.annotate(key, (compare_med_dict_.get(key)[1], compare_med_dict_.get(key)[0]), font = 'Arial', fontsize = 10)\n",
    "    \n",
    "ax1.set_ylabel(state2)\n",
    "ax1.set_xlabel(state1)\n",
    "ax2.set_ylabel(state2)\n",
    "ax2.set_xlabel(state3)\n",
    "# ax1.set_title(str(peptide1_first_res) + ' - ' + peptide_input1)\n",
    "# ax2.set_title(str(peptide2_first_res) + ' - ' + peptide_input2)\n",
    "ax1.set_xscale('log')\n",
    "ax1.set_yscale('log')\n",
    "ax2.set_xscale('log')\n",
    "ax2.set_yscale('log')\n",
    "ax1.set_ylim(.00001, 10)\n",
    "ax2.set_ylim(.00001, 10)\n",
    "ax1.set_xlim(.00001, 10)\n",
    "ax2.set_xlim(.00001, 10)\n",
    "# ax1.yaxis.set_major_formatter(FormatStrFormatter('%.1f'))\n",
    "# ax2.yaxis.set_major_formatter(FormatStrFormatter('%.1f'))"
   ]
  },
  {
   "cell_type": "code",
   "execution_count": null,
   "metadata": {
    "scrolled": false
   },
   "outputs": [],
   "source": [
    "row_labels = []\n",
    "PCA_df = pd.DataFrame()\n",
    "\n",
    "for peptide in peptide_fit_dict:\n",
    "    temp = peptide_fit_dict.get(peptide)\n",
    "    for list_item in temp:\n",
    "        state_label = str(list_item.keys())[12:-3]\n",
    "        row_label = peptide + '_' + state_label\n",
    "        row_labels.append(row_label)\n",
    "\n",
    "        temp_df = pd.DataFrame(list_item.get(state_label))\n",
    "        temp_df = temp_df.transpose()\n",
    "        PCA_df = PCA_df.append(temp_df)\n",
    "\n",
    "y_list = []\n",
    "z_list = []       \n",
    "for row_label in row_labels:\n",
    "    y_list.append(row_label.split('_')[0])\n",
    "    z_list.append(row_label.split('_')[1])\n",
    "    \n",
    "y_df = pd.DataFrame(y_list) # peptide matrix\n",
    "z_df = pd.DataFrame(z_list) # state matrix\n",
    "\n",
    "from sklearn.preprocessing import StandardScaler\n",
    "X_std = StandardScaler().fit_transform(PCA_df)\n",
    "\n",
    "from sklearn.decomposition import PCA as sklearnPCA\n",
    "sklearn_pca = sklearnPCA(n_components = 2, svd_solver = 'full')\n",
    "Y_sklearn = sklearn_pca.fit_transform(X_std)\n",
    "\n",
    "print('explained variance ratio: ' + str(sklearn_pca.explained_variance_ratio_))\n",
    "print('total Variance Explained:', round(sum(list(sklearn_pca.explained_variance_ratio_))*100, 2))\n",
    "print('singular values: ' + str(sklearn_pca.singular_values_))\n",
    "\n",
    "# Create a new dataset from principal components \n",
    "df = pd.DataFrame(data = Y_sklearn, columns = ['PC1', 'PC2'])\n",
    "\n",
    "result_df = pd.concat([df, y_df, z_df], axis=1)\n",
    "result_df.columns =['PC1', 'PC2', 'peptide', 'state']\n",
    "\n",
    "# Visualize Principal Components with a scatter plot\n",
    "fig = plt.figure(figsize = (12,10))\n",
    "ax = fig.add_subplot(1,1,1) \n",
    "ax.set_xlabel('First Principal Component ', fontsize = 20)\n",
    "ax.set_ylabel('Second Principal Component ', fontsize = 20)\n",
    "ax.set_title('Principal Component Analysis (2PCs) for HDX Dataset', fontsize = 20)\n",
    "\n",
    "color_dict = {\n",
    "    'IPTG' : 'blue',\n",
    "    'ONPF' : 'orange',\n",
    "    'APO' : 'green',\n",
    "    'DNA' : 'red',\n",
    "    'TMG' : 'gray',\n",
    "    'ONPFDNA' : 'purple'}\n",
    "\n",
    "shape_dict = {\n",
    "    'IPTG' : 'o',\n",
    "    'ONPF' : 's',\n",
    "    'APO' : '+',\n",
    "    'DNA' : '^',\n",
    "    'TMG' : 'd',\n",
    "    'ONPFDNA' : '1'}\n",
    "\n",
    "\n",
    "# color_dict = {\n",
    "# 'LIGVA' : 'rosybrown',\n",
    "# 'ALHAP' : 'lightcoral',\n",
    "# 'ALHAPSQIVA': 'brown',\n",
    "# 'ALHAPSQIVAA' : 'maroon',\n",
    "# 'ALHAPSQIVAAIK' : 'red',\n",
    "# 'SQIVAA' : 'tomato',\n",
    "# 'SQIVAAIK' : 'sienna',\n",
    "# 'IVAAIK' : 'saddlebrown',\n",
    "# 'AIKSRADQLGAS': 'sandybrown',\n",
    "# 'ADQLGAS': 'peru',\n",
    "# 'VVVSM': 'bisque',\n",
    "# 'MVERSGVE' : 'darkorange',\n",
    "# 'AAVHNL' : 'navajowhite',\n",
    "# 'LAQRVSGL' : 'orange',\n",
    "# 'VSGLIIN' : 'darkgoldenrod',\n",
    "# 'IINYPLD' : 'gold',\n",
    "# 'LDDQDAIA' : 'lemonchiffon',\n",
    "# 'IAVEAA' : 'darkkhaki',\n",
    "# 'ACTNVPAL' : 'olive',\n",
    "# 'ALFLD' : 'yellow',\n",
    "# 'FLDVSDQTPINS' : 'olivedrab',\n",
    "# 'DQTPIN' : 'yellowgreen',\n",
    "# 'SIIFSH' : 'greenyellow',\n",
    "# 'SIIFSHEDGTRL' : 'darkseagreen',\n",
    "# 'EDGTRLGVEH' : 'palegreen',\n",
    "# 'LVAL' : 'forestgreen',\n",
    "# 'LVALGHQQIAL' : 'limegreen',\n",
    "# 'LGHQQIALL' : 'green',\n",
    "# 'IALL' : 'mediumaquamarine',\n",
    "# 'LAGPLS' : 'turquoise',\n",
    "# 'LAGPLSSVSARL' : 'paleturquoise',\n",
    "# 'GPLSSVSAR' : 'teal',\n",
    "# 'LAGWHK' : 'aqua',\n",
    "# 'YLTRNQIQP': 'lightblue',\n",
    "# 'NQIQPIAEREGD' : 'deepskyblue',\n",
    "# 'IAEREGDWSAMSG' : 'steelblue',\n",
    "# 'REGDWSAMSGF' : 'slategray',\n",
    "# 'DWSAM' : 'royalblue',\n",
    "# 'WSAM' : 'blue',\n",
    "# 'SAMSGFQ' : 'darkslateblue',\n",
    "# 'SGFQQTMQM' : 'mediumpurple',\n",
    "# 'QTMQML' : 'rebeccapurple',\n",
    "# 'NEGIVPTAML' : 'darkorchid',\n",
    "# 'LVANDQMALGAM' : 'thistle',\n",
    "# 'VANDQMALGAMR' : 'violet',\n",
    "# 'AITESGLRVGAD' : 'fuchsia',\n",
    "# 'ITESGLRVGAD' : 'mediumvioletred',\n",
    "# 'ADISVVGY' : 'deeppink',\n",
    "# 'VVGYDD' : 'crimson',\n",
    "# 'DDTEDSSCYIPPLTTIK' : 'dimgray',\n",
    "# 'TEDSSCYIPPLTTIK' : 'darkgray',\n",
    "# 'SSCYIPPLTTIKQD' : 'lightgray',\n",
    "# 'FRLL' : 'beige',\n",
    "# 'FRLLGQTSV' : 'pink',\n",
    "# 'LGQTSVDR' : 'aliceblue',\n",
    "# 'GQTSVDRL' : 'wheat',\n",
    "# 'LLQL' : 'cornsilk'\n",
    "# }\n",
    "\n",
    "states = list(set(z_list))\n",
    "peptides = list(set(y_list))\n",
    "\n",
    "i = 0\n",
    "while i < 171:\n",
    "    result_df_ = result_df.iloc[i]\n",
    "    state_ = result_df_['state']\n",
    "    peptide_ = result_df_['peptide']\n",
    "    ax.scatter(result_df_['PC1'], result_df_['PC2'], \n",
    "               color = color_dict.get(state_),\n",
    "               marker = shape_dict.get(state_), \n",
    "               s = 100, \n",
    "               edgecolors = 'k')\n",
    "#     ax.annotate(peptide_, (result_df_['PC1'], result_df_['PC2']), font = 'Arial', fontsize = 7)\n",
    "    i = i + 1\n",
    "            \n",
    "# ax.set_ylim(-40,40)\n",
    "# ax.set_xlim(-120,100)\n",
    "# ax.legend(shape_dict.keys())\n",
    "ax.grid()"
   ]
  },
  {
   "cell_type": "code",
   "execution_count": null,
   "metadata": {
    "scrolled": false
   },
   "outputs": [],
   "source": [
    "row_labels = []\n",
    "PCA_df = pd.DataFrame()\n",
    "\n",
    "for peptide in peptide_params_dict:\n",
    "    temp = peptide_params_dict.get(peptide)\n",
    "    for list_item in temp:\n",
    "        state_label = str(list_item.keys())[12:-3]\n",
    "        if len(list_item.get(state_label)) > 6:\n",
    "            temp_df = pd.DataFrame(list_item.get(state_label))\n",
    "            temp_df = temp_df.transpose()\n",
    "            PCA_df = PCA_df.append(temp_df)\n",
    "            row_label = peptide + '_' + state_label\n",
    "            row_labels.append(row_label)\n",
    "\n",
    "\n",
    "            \n",
    "y_list = []\n",
    "z_list = []       \n",
    "for row_label in row_labels:\n",
    "    y_list.append(row_label.split('_')[0])\n",
    "    z_list.append(row_label.split('_')[1])\n",
    "    \n",
    "y_df = pd.DataFrame(y_list) # peptide matrix\n",
    "z_df = pd.DataFrame(z_list) # state matrix\n",
    "\n",
    "from sklearn.preprocessing import StandardScaler\n",
    "X_std = StandardScaler().fit_transform(PCA_df)\n",
    "\n",
    "from sklearn.decomposition import PCA as sklearnPCA\n",
    "sklearn_pca = sklearnPCA(n_components = 2, svd_solver = 'full')\n",
    "Y_sklearn = sklearn_pca.fit_transform(X_std)\n",
    "\n",
    "print('explained variance ratio: ' + str(sklearn_pca.explained_variance_ratio_))\n",
    "print('total Variance Explained:', round(sum(list(sklearn_pca.explained_variance_ratio_))*100, 2))\n",
    "print('singular values: ' + str(sklearn_pca.singular_values_))\n",
    "\n",
    "# Create a new dataset from principal components \n",
    "df = pd.DataFrame(data = Y_sklearn, columns = ['PC1', 'PC2'])\n",
    "\n",
    "result_df = pd.concat([df, y_df, z_df], axis=1)\n",
    "result_df.columns =['PC1', 'PC2', 'peptide', 'state']\n",
    "\n",
    "# Visualize Principal Components with a scatter plot\n",
    "fig = plt.figure(figsize = (12,10))\n",
    "ax = fig.add_subplot(1,1,1) \n",
    "ax.set_xlabel('First Principal Component ', fontsize = 20)\n",
    "ax.set_ylabel('Second Principal Component ', fontsize = 20)\n",
    "ax.set_title('Principal Component Analysis (2PCs) for HDX Dataset', fontsize = 20)\n",
    "\n",
    "# color_dict = {\n",
    "#     'IPTG' : 'blue',\n",
    "#     'ONPF' : 'orange',\n",
    "#     'APO' : 'green',\n",
    "#     'DNA' : 'red',\n",
    "#     'TMG' : 'gray',\n",
    "#     'ONPFDNA' : 'purple'}\n",
    "\n",
    "shape_dict = {\n",
    "    'IPTG' : 'o',\n",
    "    'ONPF' : 's',\n",
    "    'APO' : '+',\n",
    "    'DNA' : '^',\n",
    "    'TMG' : 'd',\n",
    "    'ONPFDNA' : '1'}\n",
    "\n",
    "color_dict = {\n",
    "'LIGVA' : 'rosybrown',\n",
    "'ALHAP' : 'lightcoral',\n",
    "'ALHAPSQIVA': 'brown',\n",
    "'ALHAPSQIVAA' : 'maroon',\n",
    "'ALHAPSQIVAAIK' : 'red',\n",
    "'SQIVAA' : 'tomato',\n",
    "'SQIVAAIK' : 'sienna',\n",
    "'IVAAIK' : 'saddlebrown',\n",
    "'AIKSRADQLGAS': 'sandybrown',\n",
    "'ADQLGAS': 'peru',\n",
    "'VVVSM': 'bisque',\n",
    "'MVERSGVE' : 'darkorange',\n",
    "'AAVHNL' : 'navajowhite',\n",
    "'LAQRVSGL' : 'orange',\n",
    "'VSGLIIN' : 'darkgoldenrod',\n",
    "'IINYPLD' : 'gold',\n",
    "'LDDQDAIA' : 'lemonchiffon',\n",
    "'IAVEAA' : 'darkkhaki',\n",
    "'ACTNVPAL' : 'olive',\n",
    "'ALFLD' : 'yellow',\n",
    "'FLDVSDQTPINS' : 'olivedrab',\n",
    "'DQTPIN' : 'yellowgreen',\n",
    "'SIIFSH' : 'greenyellow',\n",
    "'SIIFSHEDGTRL' : 'darkseagreen',\n",
    "'EDGTRLGVEH' : 'palegreen',\n",
    "'LVAL' : 'forestgreen',\n",
    "'LVALGHQQIAL' : 'limegreen',\n",
    "'LGHQQIALL' : 'green',\n",
    "'IALL' : 'mediumaquamarine',\n",
    "'LAGPLS' : 'turquoise',\n",
    "'LAGPLSSVSARL' : 'paleturquoise',\n",
    "'GPLSSVSAR' : 'teal',\n",
    "'LAGWHK' : 'aqua',\n",
    "'YLTRNQIQP': 'lightblue',\n",
    "'NQIQPIAEREGD' : 'deepskyblue',\n",
    "'IAEREGDWSAMSG' : 'steelblue',\n",
    "'REGDWSAMSGF' : 'slategray',\n",
    "'DWSAM' : 'royalblue',\n",
    "'WSAM' : 'blue',\n",
    "'SAMSGFQ' : 'darkslateblue',\n",
    "'SGFQQTMQM' : 'mediumpurple',\n",
    "'QTMQML' : 'rebeccapurple',\n",
    "'NEGIVPTAML' : 'darkorchid',\n",
    "'LVANDQMALGAM' : 'thistle',\n",
    "'VANDQMALGAMR' : 'violet',\n",
    "'AITESGLRVGAD' : 'fuchsia',\n",
    "'ITESGLRVGAD' : 'mediumvioletred',\n",
    "'ADISVVGY' : 'deeppink',\n",
    "'VVGYDD' : 'crimson',\n",
    "'DDTEDSSCYIPPLTTIK' : 'dimgray',\n",
    "'TEDSSCYIPPLTTIK' : 'darkgray',\n",
    "'SSCYIPPLTTIKQD' : 'lightgray',\n",
    "'FRLL' : 'beige',\n",
    "'FRLLGQTSV' : 'pink',\n",
    "'LGQTSVDR' : 'aliceblue',\n",
    "'GQTSVDRL' : 'wheat',\n",
    "'LLQL' : 'cornsilk'\n",
    "}\n",
    "\n",
    "states = list(set(z_list))\n",
    "peptides = list(set(y_list))\n",
    "\n",
    "i = 0\n",
    "while i < len(row_labels):\n",
    "    result_df_ = result_df.iloc[i]\n",
    "    state_ = result_df_['state']\n",
    "    peptide_ = result_df_['peptide']\n",
    "    ax.scatter(result_df_['PC1'], result_df_['PC2'], \n",
    "               color = color_dict.get(peptide_),\n",
    "               marker = shape_dict.get(state_), \n",
    "               s = 100)\n",
    "#     ax.annotate(peptide_, (result_df_['PC1'], result_df_['PC2']), font = 'Arial', fontsize = 7)\n",
    "    i = i + 1\n",
    "            \n",
    "# ax.set_ylim(-40,40)\n",
    "# ax.set_xlim(-120,100)\n",
    "ax.legend(shape_dict.keys())\n",
    "ax.grid()"
   ]
  },
  {
   "cell_type": "code",
   "execution_count": null,
   "metadata": {},
   "outputs": [],
   "source": []
  }
 ],
 "metadata": {
  "kernelspec": {
   "display_name": "Python 3",
   "language": "python",
   "name": "python3"
  },
  "language_info": {
   "codemirror_mode": {
    "name": "ipython",
    "version": 3
   },
   "file_extension": ".py",
   "mimetype": "text/x-python",
   "name": "python",
   "nbconvert_exporter": "python",
   "pygments_lexer": "ipython3",
   "version": "3.8.3"
  }
 },
 "nbformat": 4,
 "nbformat_minor": 4
}
