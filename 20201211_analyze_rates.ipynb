{
 "cells": [
  {
   "cell_type": "markdown",
   "metadata": {},
   "source": [
    "# This is a tool for looking at HDX/MS data, LacI structure, and mutational phenotypes for particular LacI peptides in one or more functional states.\n",
    "\n",
    "![LacI peptides and structure.](lacI_diagram.png)"
   ]
  },
  {
   "cell_type": "markdown",
   "metadata": {},
   "source": [
    "### First choose the state(s)."
   ]
  },
  {
   "cell_type": "code",
   "execution_count": 1,
   "metadata": {},
   "outputs": [
    {
     "name": "stdout",
     "output_type": "stream",
     "text": [
      "Choose from the following functional states: \n"
     ]
    },
    {
     "data": {
      "application/vnd.jupyter.widget-view+json": {
       "model_id": "5519e472f5ad4012bb4bf31592c38a99",
       "version_major": 2,
       "version_minor": 0
      },
      "text/plain": [
       "Checkbox(value=True, description='IPTG, an inducer molecule')"
      ]
     },
     "metadata": {},
     "output_type": "display_data"
    },
    {
     "data": {
      "application/vnd.jupyter.widget-view+json": {
       "model_id": "85bb5e2bb40045be86528502ec08f1ae",
       "version_major": 2,
       "version_minor": 0
      },
      "text/plain": [
       "Checkbox(value=True, description='ONPF, an anti-inducer molecule')"
      ]
     },
     "metadata": {},
     "output_type": "display_data"
    },
    {
     "data": {
      "application/vnd.jupyter.widget-view+json": {
       "model_id": "5a1630e7fdee4b7da22b0aa3f3a7c868",
       "version_major": 2,
       "version_minor": 0
      },
      "text/plain": [
       "Checkbox(value=True, description='APO protein')"
      ]
     },
     "metadata": {},
     "output_type": "display_data"
    },
    {
     "data": {
      "application/vnd.jupyter.widget-view+json": {
       "model_id": "6fa3579f00324b63b64fb9dcf198aaa2",
       "version_major": 2,
       "version_minor": 0
      },
      "text/plain": [
       "Checkbox(value=True, description='operator DNA')"
      ]
     },
     "metadata": {},
     "output_type": "display_data"
    },
    {
     "data": {
      "application/vnd.jupyter.widget-view+json": {
       "model_id": "effde3089aac454fbbd987107fc88fd4",
       "version_major": 2,
       "version_minor": 0
      },
      "text/plain": [
       "Checkbox(value=True, description='TMG, an inducer molecule')"
      ]
     },
     "metadata": {},
     "output_type": "display_data"
    },
    {
     "data": {
      "application/vnd.jupyter.widget-view+json": {
       "model_id": "13b8ae2d0c064543b0515a9fa07bf2bb",
       "version_major": 2,
       "version_minor": 0
      },
      "text/plain": [
       "Checkbox(value=True, description='ONPF and operator DNA')"
      ]
     },
     "metadata": {},
     "output_type": "display_data"
    }
   ],
   "source": [
    "import pandas as pd\n",
    "import numpy as np\n",
    "import matplotlib.pyplot as plt\n",
    "import pytraj as pt\n",
    "import nglview as nv\n",
    "from itertools import combinations\n",
    "from scipy.stats import ttest_ind\n",
    "from scipy.stats import f_oneway\n",
    "import seaborn as sns\n",
    "import ipywidgets as widgets\n",
    "import matplotlib.font_manager\n",
    "\n",
    "print('Choose from the following functional states: ')\n",
    "CBwidget_IPTG = widgets.Checkbox(description = 'IPTG, an inducer molecule', value=True, disabled=False)\n",
    "CBwidget_ONPF = widgets.Checkbox(description = 'ONPF, an anti-inducer molecule', value=True, disabled=False)\n",
    "CBwidget_APO = widgets.Checkbox(description = 'APO protein', value=True, disabled=False)\n",
    "CBwidget_DNA = widgets.Checkbox(description = 'operator DNA', value=True, disabled=False)\n",
    "CBwidget_TMG = widgets.Checkbox(description = 'TMG, an inducer molecule', value=True, disabled=False)\n",
    "CBwidget_ONPFDNA = widgets.Checkbox(description = 'ONPF and operator DNA', value=True, disabled=False)\n",
    "\n",
    "display(CBwidget_IPTG, CBwidget_ONPF, CBwidget_APO, CBwidget_DNA, CBwidget_TMG, CBwidget_ONPFDNA)"
   ]
  },
  {
   "cell_type": "markdown",
   "metadata": {},
   "source": [
    "Run the next block to confirm choices."
   ]
  },
  {
   "cell_type": "code",
   "execution_count": 2,
   "metadata": {},
   "outputs": [
    {
     "name": "stdout",
     "output_type": "stream",
     "text": [
      "Chosen states:\n",
      "IPTG ONPF APO DNA TMG ONPFDNA\n"
     ]
    }
   ],
   "source": [
    "states_list = []\n",
    "\n",
    "if CBwidget_IPTG.value == True:\n",
    "    states_list.append('IPTG')\n",
    "if CBwidget_ONPF.value == True:\n",
    "    states_list.append('ONPF')\n",
    "if CBwidget_APO.value == True:\n",
    "    states_list.append('APO')\n",
    "if CBwidget_DNA.value == True:\n",
    "    states_list.append('DNA')\n",
    "if CBwidget_TMG.value == True:\n",
    "    states_list.append('TMG')\n",
    "if CBwidget_ONPFDNA.value == True:\n",
    "    states_list.append('ONPFDNA')\n",
    "\n",
    "print('Chosen states:'); print(*states_list)\n",
    "\n",
    "compiled_file = pd.ExcelFile('20200922_compiled_rates.xlsx')\n",
    "EOF_file = pd.ExcelFile('error_of_fit.xlsx')\n",
    "\n",
    "states_dict = {}\n",
    "peptide_states_list = ['peptide']\n",
    "for state in states_list:\n",
    "    states_dict[state] = pd.read_excel(compiled_file, state)\n",
    "    peptide_states_list.append(state)\n",
    "    \n",
    "EOF_df = pd.read_excel(EOF_file, usecols = peptide_states_list)\n",
    "\n",
    "# Make dictionaries to organize mutation information\n",
    "MH_dict = {}\n",
    "with open(\"MH_groups.txt\") as file:\n",
    "    for line in file:\n",
    "        (key, val) = line.split()\n",
    "        MH_dict[int(key)] = val\n",
    "\n",
    "mutation_dict = {}\n",
    "with open(\"single_mutants.txt\") as file:\n",
    "    for line in file:\n",
    "        (key, val) = line.split()\n",
    "        mutation_dict[key] = val\n",
    "        \n",
    "MHdescriptions_dict = {}\n",
    "with open(\"MHgroups_descriptions.txt\") as file:\n",
    "    for line in file:\n",
    "        (key, val) = line.split(':')\n",
    "        MHdescriptions_dict[key] = val"
   ]
  },
  {
   "cell_type": "markdown",
   "metadata": {},
   "source": [
    "### Next, choose a peptide."
   ]
  },
  {
   "cell_type": "code",
   "execution_count": 3,
   "metadata": {
    "scrolled": false
   },
   "outputs": [
    {
     "data": {
      "application/vnd.jupyter.widget-view+json": {
       "model_id": "097a187ebee14d8985952555063dab54",
       "version_major": 2,
       "version_minor": 0
      },
      "text/plain": [
       "Dropdown(description='Peptide 1:', options=('63 - LIGVA', '72 - ALHAP', '72 - ALHAPSQIVA', '72 - ALHAPSQIVAA',…"
      ]
     },
     "metadata": {},
     "output_type": "display_data"
    },
    {
     "data": {
      "application/vnd.jupyter.widget-view+json": {
       "model_id": "9c7472d3493a4168a85f4431ac212d6f",
       "version_major": 2,
       "version_minor": 0
      },
      "text/plain": [
       "Dropdown(description='Peptide 2:', options=('63 - LIGVA', '72 - ALHAP', '72 - ALHAPSQIVA', '72 - ALHAPSQIVAA',…"
      ]
     },
     "metadata": {},
     "output_type": "display_data"
    }
   ],
   "source": [
    "single_state_dict = states_dict.get(states_list[0])\n",
    "all_peptides = single_state_dict[['peptide']].values.tolist()\n",
    "all_peptides_2 = []\n",
    "first_res = single_state_dict[['first_res']].values.tolist()\n",
    "index = 0\n",
    "\n",
    "while index < len(all_peptides):\n",
    "    current_first_res = str(int(first_res[index][0]))\n",
    "    all_peptides_2.append(current_first_res + ' - ' + all_peptides[index][0])\n",
    "    index = index + 1\n",
    "\n",
    "DDwidget = widgets.Dropdown(\n",
    "    options = all_peptides_2,\n",
    "    value = '63 - LIGVA',\n",
    "    description = 'Peptide 1:',\n",
    "    disabled = False,\n",
    ")\n",
    "\n",
    "DDwidget2 = widgets.Dropdown(\n",
    "    options = all_peptides_2,\n",
    "    value = '63 - LIGVA',\n",
    "    description = 'Peptide 2:',\n",
    "    disabled = False,\n",
    ")\n",
    "\n",
    "display(DDwidget)\n",
    "display(DDwidget2)"
   ]
  },
  {
   "cell_type": "markdown",
   "metadata": {},
   "source": [
    "Run the next block to confirm your peptide choice."
   ]
  },
  {
   "cell_type": "code",
   "execution_count": 4,
   "metadata": {},
   "outputs": [
    {
     "name": "stdout",
     "output_type": "stream",
     "text": [
      "Peptide 1: SQIVAAIK, residues 77-84\n",
      "Peptide 2: ADISVVGY, residues 266-273\n"
     ]
    }
   ],
   "source": [
    "peptide_input1 = str(DDwidget.value)\n",
    "peptide_input1 = peptide_input1.split()[-1]\n",
    "\n",
    "peptide_input2 = str(DDwidget2.value)\n",
    "peptide_input2 = peptide_input2.split()[-1]\n",
    "\n",
    "list_states = states_dict.keys()\n",
    "peptide_dict1 = dict.fromkeys(list_states, peptide_input1)\n",
    "\n",
    "for key in peptide_dict1:\n",
    "    peptide1_df = states_dict[key]\n",
    "    peptide1_df = peptide1_df[peptide1_df[\"peptide\"] == peptide_input1]\n",
    "    peptide1_df = peptide1_df[['first_res','last_res','peptide','k1','k2','k3','A','B','C']]\n",
    "    peptide_dict1[key] = peptide1_df\n",
    "\n",
    "peptide1_first_res = int(peptide1_df['first_res'])\n",
    "peptide1_last_res = int(peptide1_df['last_res'])\n",
    "print('Peptide 1: ' + peptide_input1 + \", residues \" + str(peptide1_first_res) + \"-\" + str(peptide1_last_res))\n",
    "\n",
    "list_states = states_dict.keys()\n",
    "peptide_dict2 = dict.fromkeys(list_states, peptide_input2)\n",
    "\n",
    "for key in peptide_dict2:\n",
    "    peptide2_df = states_dict[key]\n",
    "    peptide2_df = peptide2_df[peptide2_df[\"peptide\"] == peptide_input2]\n",
    "    peptide2_df = peptide2_df[['first_res','last_res','peptide','k1','k2','k3','A','B','C']]\n",
    "    peptide_dict2[key] = peptide2_df\n",
    "    \n",
    "peptide1_EOF_df = EOF_df[EOF_df['peptide'] == peptide_input1]\n",
    "peptide2_EOF_df = EOF_df[EOF_df['peptide'] == peptide_input2]\n",
    "peptide1_EOF_dict = {}\n",
    "peptide2_EOF_dict = {}\n",
    "for state in states_list:\n",
    "    peptide1_EOF_dict[state] = peptide1_EOF_df.iloc[0][state]\n",
    "    peptide2_EOF_dict[state] = peptide2_EOF_df.iloc[0][state]\n",
    "\n",
    "peptide2_first_res = int(peptide2_df['first_res'])\n",
    "peptide2_last_res = int(peptide2_df['last_res'])\n",
    "print('Peptide 2: ' + peptide_input2 + \", residues \" + str(peptide2_first_res) + \"-\" + str(peptide2_last_res))"
   ]
  },
  {
   "cell_type": "markdown",
   "metadata": {},
   "source": [
    "### Fit deuterium uptake functions for each peptide for each state."
   ]
  },
  {
   "cell_type": "code",
   "execution_count": 5,
   "metadata": {},
   "outputs": [],
   "source": [
    "fit_dict1 = dict.fromkeys(list_states)\n",
    "fit_dict2 = dict.fromkeys(list_states)\n",
    "\n",
    "for key in peptide_dict1:\n",
    "    current_table = peptide_dict1.get(key)\n",
    "\n",
    "    N1 = current_table['A'] + current_table['B'] + current_table['C']\n",
    "\n",
    "    k1 = current_table['k1']\n",
    "    k2 = current_table['k2']\n",
    "    k3 = current_table['k3']\n",
    "    A = current_table['A']\n",
    "    B = current_table['B']\n",
    "    C = current_table['C']\n",
    "\n",
    "    t = np.logspace(0, 4.5, 1000)\n",
    "    fit_data = []\n",
    "\n",
    "    for timepoint in t:\n",
    "        fit_item = N1 - ( A*np.exp(-k1*timepoint) + B*np.exp(-k2*timepoint) + C*np.exp(-k3*timepoint) )\n",
    "        fit_data.append(float(fit_item))\n",
    "    \n",
    "    fit_dict1[key] = fit_data\n",
    "    \n",
    "for key in peptide_dict2:\n",
    "    current_table = peptide_dict2.get(key)\n",
    "\n",
    "    N2 = current_table['A'] + current_table['B'] + current_table['C']\n",
    "\n",
    "    k1 = current_table['k1']\n",
    "    k2 = current_table['k2']\n",
    "    k3 = current_table['k3']\n",
    "    A = current_table['A']\n",
    "    B = current_table['B']\n",
    "    C = current_table['C']\n",
    "\n",
    "    t = np.logspace(0, 4.5, 1000)\n",
    "    fit_data = []\n",
    "\n",
    "    for timepoint in t:\n",
    "        fit_item = N2 - ( A*np.exp(-k1*timepoint) + B*np.exp(-k2*timepoint) + C*np.exp(-k3*timepoint) )\n",
    "        fit_data.append(float(fit_item))\n",
    "    \n",
    "    fit_dict2[key] = fit_data\n",
    "\n",
    "print('Fits complete!')"
   ]
  },
  {
   "cell_type": "markdown",
   "metadata": {},
   "source": [
    "### Compile mutational phenotype data for Peptide 1."
   ]
  },
  {
   "cell_type": "code",
   "execution_count": 6,
   "metadata": {
    "scrolled": false
   },
   "outputs": [
    {
     "name": "stdout",
     "output_type": "stream",
     "text": [
      "\n",
      "-------- Mutational phenotype data from Markiewicz et al., J. Mol Biol., 1994 --------\n",
      "\n",
      "Peptide 1: SQIVAAIK\n",
      "\n",
      "S77: group 14\n",
      "N-terminal domain of the core, near the center of the domain (weak Is)\n",
      "\n",
      "Mutations that do not affect the phenotype: A G\n",
      "Mutations causing small effects on phenotype: L H C E F P Q R\n",
      "Mutations causing dramatic effects on phenotype: Y K\n",
      "\n",
      "Q78: group 12\n",
      "N-terminal part of the dimerization interface - substitutions result in Is phenotype\n",
      "\n",
      "Mutations that do not affect the phenotype: F S\n",
      "Mutations causing small effects on phenotype: Y L H A E G\n",
      "Mutations causing dramatic effects on phenotype: C K P R\n",
      "\n",
      "I79: group 11\n",
      "IPTG contacts, substitutions result in Is phenotype\n",
      "\n",
      "Mutations that do not affect the phenotype: A C S\n",
      "Mutations causing small effects on phenotype: Y L E F G K P Q R\n",
      "Mutations causing dramatic effects on phenotype: H\n",
      "\n",
      "V80: group 12\n",
      "N-terminal part of the dimerization interface - substitutions result in Is phenotype\n",
      "\n",
      "Mutations that do not affect the phenotype: A C G Q S\n",
      "Mutations causing small effects on phenotype: L K P R\n",
      "Mutations causing dramatic effects on phenotype: Y H E F\n",
      "\n",
      "A81: group 12\n",
      "N-terminal part of the dimerization interface - substitutions result in Is phenotype\n",
      "\n",
      "Mutations that do not affect the phenotype: H F P S\n",
      "Mutations causing small effects on phenotype: Y L C G K Q R\n",
      "Mutations causing dramatic effects on phenotype: E\n",
      "\n",
      "A82: group 1\n",
      "Solvent exposed and mostly tolerant to substitutions\n",
      "\n",
      "Mutations that do not affect the phenotype: Y H F R\n",
      "Mutations causing small effects on phenotype: L C E G K P S\n",
      "Mutations causing dramatic effects on phenotype: Q\n",
      "\n",
      "I83: group 14\n",
      "N-terminal domain of the core, near the center of the domain (weak Is)\n",
      "\n",
      "Mutations that do not affect the phenotype: L A C F\n",
      "Mutations causing small effects on phenotype: E Q S\n",
      "Mutations causing dramatic effects on phenotype: Y H G K P R\n",
      "\n",
      "K84: group 12\n",
      "N-terminal part of the dimerization interface - substitutions result in Is phenotype\n",
      "\n",
      "Mutations that do not affect the phenotype: R\n",
      "Mutations causing small effects on phenotype: H E P Q\n",
      "Mutations causing dramatic effects on phenotype: Y L A C F G S\n",
      "\n",
      "Heatmap\n",
      "Darker colors indicate increased disruption to phenotype by mutation.\n",
      "White boxes - WT residue.\n"
     ]
    },
    {
     "data": {
      "image/png": "[encoded data removed]",
      "text/plain": [
       "<Figure size 720x576 with 2 Axes>"
      ]
     },
     "metadata": {
      "needs_background": "light"
     },
     "output_type": "display_data"
    }
   ],
   "source": [
    "# This section controls the mutation information.\n",
    "\n",
    "peptide1_range = range(peptide1_first_res, peptide1_last_res + 1, 1)\n",
    "\n",
    "print('''\n",
    "-------- Mutational phenotype data from Markiewicz et al., J. Mol Biol., 1994 --------\n",
    "''')\n",
    "print('Peptide 1: ' + peptide_input1)\n",
    "\n",
    "peptide_index = 0\n",
    "res_label_value = []\n",
    "AA_value = []\n",
    "heatmap_value = []\n",
    "\n",
    "aa = list(\"YLHACDEFGIKMNPQRSTVW\")\n",
    "\n",
    "for residue in peptide1_range:\n",
    "    no_effect = []\n",
    "    small_effect = []\n",
    "    dramatic_effect = []\n",
    "    \n",
    "    # print MH group\n",
    "    for key, value in MH_dict.items(): \n",
    "        if residue == key:\n",
    "            peptide_index = peptide_index + 1\n",
    "            res_label = str(peptide_input1[peptide_index-1]) + str(residue)\n",
    "            print('\\n' + res_label + ': group ' + value)\n",
    "            # print MH group description\n",
    "            for second_key, second_value in MHdescriptions_dict.items():\n",
    "                if value == second_key:\n",
    "                    print(second_value)\n",
    "                    \n",
    "    # group and print phenotype effects of specific point mutations\n",
    "    for AA in aa:\n",
    "        for key, value in mutation_dict.items():\n",
    "            if key[-1] == AA:\n",
    "                if res_label in key:\n",
    "                    if value == '+':\n",
    "                        no_effect.append(key[-1])\n",
    "                        heatmap_value.append(1)\n",
    "                        AA_value.append(AA)\n",
    "                        res_label_value.append(residue)\n",
    "                    elif value == ('+-'):\n",
    "                        small_effect.append(key[-1])\n",
    "                        heatmap_value.append(0.25)\n",
    "                        AA_value.append(AA)\n",
    "                        res_label_value.append(residue)\n",
    "                    elif value == ('-+'):\n",
    "                        small_effect.append(key[-1])\n",
    "                        heatmap_value.append(0.75)\n",
    "                        AA_value.append(AA)\n",
    "                        res_label_value.append(residue)\n",
    "                    elif value == '-':\n",
    "                        dramatic_effect.append(key[-1])\n",
    "                        heatmap_value.append(0)\n",
    "                        AA_value.append(AA)\n",
    "                        res_label_value.append(residue)\n",
    "\n",
    "    print('Mutations that do not affect the phenotype: ' + \" \".join(x for x in no_effect))\n",
    "    print('Mutations causing small effects on phenotype: ' + \" \".join(x for x in small_effect))\n",
    "    print('Mutations causing dramatic effects on phenotype: ' + \" \".join(x for x in dramatic_effect))\n",
    "\n",
    "heatmap_df = pd.DataFrame({'Phenotype': AA_value, 'Residue': res_label_value, 'Sensitivity': heatmap_value })\n",
    "# plot it\n",
    "print('\\nHeatmap'\n",
    "      '\\nDarker colors indicate increased disruption to phenotype by mutation.'\n",
    "      '\\nWhite boxes - WT residue.')\n",
    "plt.rcParams['figure.figsize'] = (10.0, 8.0)\n",
    "plt.rcParams['font.size'] = 14\n",
    "df_wide=heatmap_df.pivot_table( index='Residue', columns='Phenotype', values='Sensitivity' )\n",
    "p2=sns.heatmap( df_wide, cmap=\"YlGn_r\" )\n",
    "plt.show()"
   ]
  },
  {
   "cell_type": "markdown",
   "metadata": {},
   "source": [
    "### Compile mutational phenotype data for Peptide 2."
   ]
  },
  {
   "cell_type": "code",
   "execution_count": 7,
   "metadata": {
    "scrolled": false
   },
   "outputs": [
    {
     "name": "stdout",
     "output_type": "stream",
     "text": [
      "\n",
      "-------- Mutational phenotype data from Markiewicz et al., J. Mol Biol., 1994 --------\n",
      "\n",
      "Peptide 2: ADISVVGY\n",
      "\n",
      "A266: group 1\n",
      "Solvent exposed and mostly tolerant to substitutions\n",
      "\n",
      "Mutations that do not affect the phenotype: Y L H C E F G K P Q R S\n",
      "Mutations causing small effects on phenotype: \n",
      "Mutations causing dramatic effects on phenotype: \n",
      "\n",
      "D267: group 1\n",
      "Solvent exposed and mostly tolerant to substitutions\n",
      "\n",
      "Mutations that do not affect the phenotype: H A C E G Q R S\n",
      "Mutations causing small effects on phenotype: Y F P\n",
      "Mutations causing dramatic effects on phenotype: L K\n",
      "\n",
      "I268: group 7\n",
      "Buried, intolerant to substitutions (I-)\n",
      "\n",
      "Mutations that do not affect the phenotype: \n",
      "Mutations causing small effects on phenotype: \n",
      "Mutations causing dramatic effects on phenotype: Y L H A C E F G K P Q R S\n",
      "\n",
      "S269: group 7\n",
      "Buried, intolerant to substitutions (I-)\n",
      "\n",
      "Mutations that do not affect the phenotype: H A C G Q\n",
      "Mutations causing small effects on phenotype: E\n",
      "Mutations causing dramatic effects on phenotype: Y L F K P R\n",
      "\n",
      "V270: group 7\n",
      "Buried, intolerant to substitutions (I-)\n",
      "\n",
      "Mutations that do not affect the phenotype: L A C F\n",
      "Mutations causing small effects on phenotype: \n",
      "Mutations causing dramatic effects on phenotype: Y H E G K P Q R S\n",
      "\n",
      "V271: group 7\n",
      "Buried, intolerant to substitutions (I-)\n",
      "\n",
      "Mutations that do not affect the phenotype: L A C F Q\n",
      "Mutations causing small effects on phenotype: S\n",
      "Mutations causing dramatic effects on phenotype: Y H E G K P R\n",
      "\n",
      "G272: group 5\n",
      "Buried/small, only small amino acid substitutions tolerated (I-)\n",
      "\n",
      "Mutations that do not affect the phenotype: A\n",
      "Mutations causing small effects on phenotype: \n",
      "Mutations causing dramatic effects on phenotype: Y L H C E F K P Q R S\n",
      "\n",
      "Y273: group 11\n",
      "IPTG contacts, substitutions result in Is phenotype\n",
      "\n",
      "Mutations that do not affect the phenotype: L\n",
      "Mutations causing small effects on phenotype: H\n",
      "Mutations causing dramatic effects on phenotype: A C E F G K P Q R S\n",
      "\n",
      "Heatmap\n",
      "Darker colors indicate increased disruption to phenotype by mutation.\n",
      "White boxes - WT residue.\n"
     ]
    },
    {
     "data": {
      "image/png": "[encoded data removed]",
      "text/plain": [
       "<Figure size 720x576 with 2 Axes>"
      ]
     },
     "metadata": {
      "needs_background": "light"
     },
     "output_type": "display_data"
    }
   ],
   "source": [
    "# This section controls the mutation information.\n",
    "\n",
    "peptide2_range = range(peptide2_first_res, peptide2_last_res + 1, 1)\n",
    "\n",
    "print('''\n",
    "-------- Mutational phenotype data from Markiewicz et al., J. Mol Biol., 1994 --------\n",
    "''')\n",
    "print('Peptide 2: ' + peptide_input2)\n",
    "\n",
    "peptide_index = 0\n",
    "res_label_value = []\n",
    "AA_value = []\n",
    "heatmap_value = []\n",
    "\n",
    "aa = list(\"YLHACDEFGIKMNPQRSTVW\")\n",
    "\n",
    "for residue in peptide2_range:\n",
    "    no_effect = []\n",
    "    small_effect = []\n",
    "    dramatic_effect = []\n",
    "    \n",
    "    # print MH group\n",
    "    for key, value in MH_dict.items(): \n",
    "        if residue == key:\n",
    "            peptide_index = peptide_index + 1\n",
    "            res_label = str(peptide_input2[peptide_index-1]) + str(residue)\n",
    "            print('\\n' + res_label + ': group ' + value)\n",
    "            # print MH group description\n",
    "            for second_key, second_value in MHdescriptions_dict.items():\n",
    "                if value == second_key:\n",
    "                    print(second_value)\n",
    "                    \n",
    "    # group and print phenotype effects of specific point mutations\n",
    "    for AA in aa:\n",
    "        for key, value in mutation_dict.items():\n",
    "            if key[-1] == AA:\n",
    "                if res_label in key:\n",
    "                    if value == '+':\n",
    "                        no_effect.append(key[-1])\n",
    "                        heatmap_value.append(1)\n",
    "                        AA_value.append(AA)\n",
    "                        res_label_value.append(residue)\n",
    "                    elif value == ('+-'):\n",
    "                        small_effect.append(key[-1])\n",
    "                        heatmap_value.append(0.25)\n",
    "                        AA_value.append(AA)\n",
    "                        res_label_value.append(residue)\n",
    "                    elif value == ('-+'):\n",
    "                        small_effect.append(key[-1])\n",
    "                        heatmap_value.append(0.75)\n",
    "                        AA_value.append(AA)\n",
    "                        res_label_value.append(residue)\n",
    "                    elif value == '-':\n",
    "                        dramatic_effect.append(key[-1])\n",
    "                        heatmap_value.append(0)\n",
    "                        AA_value.append(AA)\n",
    "                        res_label_value.append(residue)\n",
    "\n",
    "    print('Mutations that do not affect the phenotype: ' + \" \".join(x for x in no_effect))\n",
    "    print('Mutations causing small effects on phenotype: ' + \" \".join(x for x in small_effect))\n",
    "    print('Mutations causing dramatic effects on phenotype: ' + \" \".join(x for x in dramatic_effect))\n",
    "\n",
    "heatmap_df = pd.DataFrame({'Phenotype': AA_value, 'Residue': res_label_value, 'Sensitivity': heatmap_value })\n",
    "# plot it\n",
    "print('\\nHeatmap'\n",
    "      '\\nDarker colors indicate increased disruption to phenotype by mutation.'\n",
    "      '\\nWhite boxes - WT residue.')\n",
    "plt.rcParams['figure.figsize'] = (10.0, 8.0)\n",
    "plt.rcParams['font.size'] = 14\n",
    "df_wide=heatmap_df.pivot_table( index='Residue', columns='Phenotype', values='Sensitivity' )\n",
    "p2=sns.heatmap( df_wide, cmap=\"YlGn_r\" )\n",
    "plt.show()"
   ]
  },
  {
   "cell_type": "markdown",
   "metadata": {},
   "source": [
    "### Finally, plot the deterium uptake plot to observe the H/D exchange for the peptide in different states. Compare with the protein structure."
   ]
  },
  {
   "cell_type": "code",
   "execution_count": 12,
   "metadata": {},
   "outputs": [
    {
     "name": "stdout",
     "output_type": "stream",
     "text": [
      "\n",
      "-------- Fitted D uptake plots for selected states with structural representation --------\n",
      "\n"
     ]
    },
    {
     "data": {
      "image/png": "[encoded data removed]",
      "text/plain": [
       "<Figure size 864x360 with 2 Axes>"
      ]
     },
     "metadata": {
      "needs_background": "light"
     },
     "output_type": "display_data"
    },
    {
     "name": "stdout",
     "output_type": "stream",
     "text": [
      "\n",
      "PDB ID: 2P9H (wild-type LacI core domain + IPTG). \n",
      "Oriented with the C-terminal subdomain at the top.\n",
      "\n",
      "Use the mouse to move the structure. \n",
      "Double-click for full-screen. Type \"R\" to zoom out, \"I\" to rotate, and \"K\" to rock.\n",
      "NGLViewer, an amazing tool: H Nguyen, DA Case and AS Rose, Bioinformatics, 2017. doi:10.1093/bioinformatics/btx789\n",
      "\n",
      "Peptide SQIVAAIK, residues 79-84, shown as orange surface and sticks.\n",
      "Peptide ADISVVGY, residues 268-273, shown as blue surface and sticks.\n"
     ]
    },
    {
     "data": {
      "application/vnd.jupyter.widget-view+json": {
       "model_id": "e974da179e674989a3d7c7c760e32980",
       "version_major": 2,
       "version_minor": 0
      },
      "text/plain": [
       "NGLWidget()"
      ]
     },
     "metadata": {},
     "output_type": "display_data"
    }
   ],
   "source": [
    "# This section controls the plot.\n",
    "\n",
    "print('''\n",
    "-------- Fitted D uptake plots for selected states with structural representation --------\n",
    "''')\n",
    "\n",
    "figure, (ax1, ax2) = plt.subplots(1, 2, figsize=(12,5))\n",
    "    \n",
    "font = {'family' : 'Arial',\n",
    "        'weight' : 'normal',\n",
    "        'size'   : 24\n",
    "       }\n",
    "axes = {'titlesize' : 24,\n",
    "        'titleweight' : 'bold',\n",
    "        'labelsize' : 24\n",
    "       }\n",
    "\n",
    "plt.rc('font', **font)\n",
    "plt.rc('axes', **axes)\n",
    "plt.rc('lines', lw = 3)\n",
    "\n",
    "for state in states_list:\n",
    "    ax1.plot(t, fit_dict1.get(state), label = state)\n",
    "    ax1.fill_between(t, fit_dict1.get(state)+peptide1_EOF_dict.get(state), fit_dict1.get(state)-peptide1_EOF_dict.get(state), alpha=0.2)\n",
    "    ax2.plot(t, fit_dict2.get(state), label = state)\n",
    "    ax2.fill_between(t, fit_dict2.get(state)+peptide2_EOF_dict.get(state), fit_dict2.get(state)-peptide2_EOF_dict.get(state), alpha=0.2)\n",
    "    ax1.set_ylabel('# Deuterons')\n",
    "    ax1.set_xlabel('Time (seconds)')\n",
    "    ax2.set_xlabel('Time (seconds)')\n",
    "    ax1.set_title(str(peptide1_first_res) + ' - ' + peptide_input1)\n",
    "    ax2.set_title(str(peptide2_first_res) + ' - ' + peptide_input2)\n",
    "    ax1.set_xscale('log')\n",
    "    ax2.set_xscale('log')\n",
    "    ax1.set_ylim(0, int(round(N1)))\n",
    "    ax2.set_ylim(0, int(round(N2)))\n",
    "\n",
    "\n",
    "plt.legend(frameon = False, bbox_to_anchor = (1.8, 1))\n",
    "plt.show()\n",
    "\n",
    "# This section controls the structure widget.\n",
    "\n",
    "view = nv.NGLWidget()\n",
    "traj = pt.load('2p9h_REDO.pdb')\n",
    "view = nv.show_pytraj(traj)\n",
    "view.add_surface(str(peptide1_first_res+2) + \"-\" + str(peptide1_last_res), color = 'orange', opacity='0.5', wireframe=True)\n",
    "view.add_ball_and_stick(str(peptide1_first_res+2) + \"-\" + str(peptide1_last_res))\n",
    "view.add_surface(str(peptide2_first_res+2) + \"-\" + str(peptide2_last_res), color = 'lightblue', opacity='0.5', wireframe=True)\n",
    "view.add_ball_and_stick(str(peptide2_first_res+2) + \"-\" + str(peptide2_last_res))\n",
    "# view.add_surface('74-81', color = 'orange', opacity='0.9', wireframe=True)\n",
    "# view.add_ball_and_stick('246-255')\n",
    "\n",
    "\n",
    "# view.add_representation('line', selection='water') # uncomment this line to see solvent\n",
    "view._set_size('800px', '600px')\n",
    "mat = [59.476009917035874 ,66.10295214971443, -76.02228809508843, 0,\n",
    "       -55.56959630110223, 95.16365469618486, 39.27191257844691, 0,\n",
    "       84.029807431962, 16.14505706800799, 79.77915091670029, 0, \n",
    "       -22.46560287475586, 17.614827632904053, -10.28352165222168, 1]\n",
    "view._set_camera_orientation(mat)\n",
    "print('''\n",
    "PDB ID: 2P9H (wild-type LacI core domain + IPTG). \n",
    "Oriented with the C-terminal subdomain at the top.\n",
    "\n",
    "Use the mouse to move the structure. \n",
    "Double-click for full-screen. Type \"R\" to zoom out, \"I\" to rotate, and \"K\" to rock.\n",
    "NGLViewer, an amazing tool: H Nguyen, DA Case and AS Rose, Bioinformatics, 2017. doi:10.1093/bioinformatics/btx789\n",
    "''')\n",
    "print('Peptide ' + peptide_input1 + ', residues ' + str(peptide1_first_res+2) + \"-\" + str(peptide1_last_res) + \n",
    "      ', shown as orange surface and sticks.')\n",
    "print('Peptide ' + peptide_input2 + ', residues ' + str(peptide2_first_res+2) + \"-\" + str(peptide2_last_res) + \n",
    "      ', shown as blue surface and sticks.')\n",
    "view"
   ]
  },
  {
   "cell_type": "markdown",
   "metadata": {},
   "source": [
    "### Determine the statistical difference in H/D exchange over this timecourse among states for Peptide 1.\n",
    "(less reliable for very slow-exchanging peptides)"
   ]
  },
  {
   "cell_type": "code",
   "execution_count": null,
   "metadata": {
    "scrolled": false
   },
   "outputs": [],
   "source": [
    "print('''\n",
    "Independent t-tests\n",
    "Pairwise tests to determine: is a similar to b? / is a similar to c? / is b similar to c?/ etc.\n",
    "These test the null hypothesis that pairs of independent samples have identical average (expected) values.\n",
    "Assumes that the populations have identical variances.\n",
    "''')\n",
    "\n",
    "for list1, list2 in combinations(fit_dict1.keys(), 2):\n",
    "    sig = \"\"\n",
    "    t_val, p_val = ttest_ind(fit_dict1[list1], fit_dict1[list2])\n",
    "    if p_val > 0.05:\n",
    "        sig = \"   p > 0.05\"\n",
    "    if p_val == 0:\n",
    "        sig = \"exchanges very slowly in both states\"\n",
    "    print(list1, list2, \"{:.2e}\".format(p_val), sig)\n",
    "\n",
    "print('''\n",
    "One-way ANOVA\n",
    "A combined test to determine: are a, b and c drawn from the same group?\n",
    "This tests the null hypothesis that all groups have the same population mean.\n",
    "(If there are only two groups, it's the same as a t-test.)\n",
    "''')\n",
    "\n",
    "t_val_2, p_val_2 = f_oneway(*fit_dict1.values())\n",
    "print(*fit_dict1.keys(), \"{:.2e}\".format(p_val_2))"
   ]
  },
  {
   "cell_type": "markdown",
   "metadata": {},
   "source": [
    "### Determine the statistical difference in H/D exchange over this timecourse among states for Peptide 2.\n",
    "(less reliable for very slow-exchanging peptides)"
   ]
  },
  {
   "cell_type": "code",
   "execution_count": null,
   "metadata": {},
   "outputs": [],
   "source": [
    "print('''\n",
    "Independent t-tests\n",
    "Pairwise tests to determine: is a similar to b? / is a similar to c? / is b similar to c?/ etc.\n",
    "These test the null hypothesis that pairs of independent samples have identical average (expected) values.\n",
    "Assumes that the populations have identical variances.\n",
    "''')\n",
    "\n",
    "for list1, list2 in combinations(fit_dict2.keys(), 2):\n",
    "    sig = \"\"\n",
    "    t_val, p_val = ttest_ind(fit_dict2[list1], fit_dict2[list2])\n",
    "    if p_val > 0.05:\n",
    "        sig = \"   p > 0.05\"\n",
    "    if p_val == 0:\n",
    "        sig = \"exchanges very slowly in both states\"\n",
    "    print(list1, list2, \"{:.2e}\".format(p_val), sig)\n",
    "\n",
    "print('''\n",
    "One-way ANOVA\n",
    "A combined test to determine: are a, b and c drawn from the same group?\n",
    "This tests the null hypothesis that all groups have the same population mean.\n",
    "(If there are only two groups, it's the same as a t-test.)\n",
    "''')\n",
    "\n",
    "t_val_2, p_val_2 = f_oneway(*fit_dict2.values())\n",
    "print(*fit_dict2.keys(), \"{:.2e}\".format(p_val_2))"
   ]
  },
  {
   "cell_type": "code",
   "execution_count": null,
   "metadata": {},
   "outputs": [],
   "source": []
  }
 ],
 "metadata": {
  "kernelspec": {
   "display_name": "Python 3",
   "language": "python",
   "name": "python3"
  },
  "language_info": {
   "codemirror_mode": {
    "name": "ipython",
    "version": 3
   },
   "file_extension": ".py",
   "mimetype": "text/x-python",
   "name": "python",
   "nbconvert_exporter": "python",
   "pygments_lexer": "ipython3",
   "version": "3.8.3"
  }
 },
 "nbformat": 4,
 "nbformat_minor": 4
}
