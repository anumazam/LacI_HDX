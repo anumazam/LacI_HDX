{
 "cells": [
  {
   "cell_type": "markdown",
   "metadata": {},
   "source": [
    "# This is a tool for looking at HDX/MS data, LacI structure, and mutational phenotypes for particular LacI peptides in one or more functional states.\n",
    "\n",
    "![LacI peptides and structure.](lacI_diagram_table.png)"
   ]
  },
  {
   "cell_type": "markdown",
   "metadata": {},
   "source": [
    "### First choose the state(s)."
   ]
  },
  {
   "cell_type": "code",
   "execution_count": 1,
   "metadata": {},
   "outputs": [
    {
     "data": {
      "application/vnd.jupyter.widget-view+json": {
       "model_id": "736c82b17c9a42c6a410ea833f6917c0",
       "version_major": 2,
       "version_minor": 0
      },
      "text/plain": []
     },
     "metadata": {},
     "output_type": "display_data"
    },
    {
     "name": "stdout",
     "output_type": "stream",
     "text": [
      "Choose from the following functional states: \n"
     ]
    },
    {
     "data": {
      "application/vnd.jupyter.widget-view+json": {
       "model_id": "a9b71db513e34364aade33b198d95f24",
       "version_major": 2,
       "version_minor": 0
      },
      "text/plain": [
       "Checkbox(value=True, description='IPTG, an inducer molecule')"
      ]
     },
     "metadata": {},
     "output_type": "display_data"
    },
    {
     "data": {
      "application/vnd.jupyter.widget-view+json": {
       "model_id": "5126dce148604c71bbde02286333a344",
       "version_major": 2,
       "version_minor": 0
      },
      "text/plain": [
       "Checkbox(value=True, description='ONPF, an anti-inducer molecule')"
      ]
     },
     "metadata": {},
     "output_type": "display_data"
    },
    {
     "data": {
      "application/vnd.jupyter.widget-view+json": {
       "model_id": "efa0487f977345458dea613bfbe7f12f",
       "version_major": 2,
       "version_minor": 0
      },
      "text/plain": [
       "Checkbox(value=False, description='APO protein')"
      ]
     },
     "metadata": {},
     "output_type": "display_data"
    },
    {
     "data": {
      "application/vnd.jupyter.widget-view+json": {
       "model_id": "d36a2ea685e34d67a2a4870b5b8e85c1",
       "version_major": 2,
       "version_minor": 0
      },
      "text/plain": [
       "Checkbox(value=True, description='operator DNA')"
      ]
     },
     "metadata": {},
     "output_type": "display_data"
    },
    {
     "data": {
      "application/vnd.jupyter.widget-view+json": {
       "model_id": "c33f247c14b04c90bf1b020bd487ca03",
       "version_major": 2,
       "version_minor": 0
      },
      "text/plain": [
       "Checkbox(value=False, description='TMG, an inducer molecule')"
      ]
     },
     "metadata": {},
     "output_type": "display_data"
    },
    {
     "data": {
      "application/vnd.jupyter.widget-view+json": {
       "model_id": "2837a28812294bbf82692de22efcc999",
       "version_major": 2,
       "version_minor": 0
      },
      "text/plain": [
       "Checkbox(value=False, description='ONPF and operator DNA')"
      ]
     },
     "metadata": {},
     "output_type": "display_data"
    }
   ],
   "source": [
    "import pandas as pd\n",
    "import numpy as np\n",
    "import math\n",
    "import matplotlib.pyplot as plt\n",
    "import pytraj as pt\n",
    "import nglview as nv\n",
    "from itertools import combinations\n",
    "from scipy.stats import ttest_ind\n",
    "from scipy.stats import f_oneway\n",
    "import seaborn as sns\n",
    "import ipywidgets as widgets\n",
    "from scipy.optimize import curve_fit\n",
    "from matplotlib.ticker import FormatStrFormatter\n",
    "\n",
    "print('Choose from the following functional states: ')\n",
    "CBwidget_IPTG = widgets.Checkbox(description = 'IPTG, an inducer molecule', value=True, disabled=False)\n",
    "CBwidget_ONPF = widgets.Checkbox(description = 'ONPF, an anti-inducer molecule', value=True, disabled=False)\n",
    "CBwidget_APO = widgets.Checkbox(description = 'APO protein', value=False, disabled=False)\n",
    "CBwidget_DNA = widgets.Checkbox(description = 'operator DNA', value=True, disabled=False)\n",
    "CBwidget_TMG = widgets.Checkbox(description = 'TMG, an inducer molecule', value=False, disabled=False)\n",
    "CBwidget_ONPFDNA = widgets.Checkbox(description = 'ONPF and operator DNA', value=False, disabled=False)\n",
    "\n",
    "display(CBwidget_IPTG, CBwidget_ONPF, CBwidget_APO, CBwidget_DNA, CBwidget_TMG, CBwidget_ONPFDNA)"
   ]
  },
  {
   "cell_type": "markdown",
   "metadata": {},
   "source": [
    "Run the next block to confirm choices."
   ]
  },
  {
   "cell_type": "code",
   "execution_count": 24,
   "metadata": {},
   "outputs": [
    {
     "name": "stdout",
     "output_type": "stream",
     "text": [
      "Chosen states:\n",
      "IPTG ONPF APO DNA TMG ONPFDNA\n"
     ]
    }
   ],
   "source": [
    "states_list = []\n",
    "\n",
    "if CBwidget_IPTG.value == True:\n",
    "    states_list.append('IPTG')\n",
    "if CBwidget_ONPF.value == True:\n",
    "    states_list.append('ONPF')\n",
    "if CBwidget_APO.value == True:\n",
    "    states_list.append('APO')\n",
    "if CBwidget_DNA.value == True:\n",
    "    states_list.append('DNA')\n",
    "if CBwidget_TMG.value == True:\n",
    "    states_list.append('TMG')\n",
    "if CBwidget_ONPFDNA.value == True:\n",
    "    states_list.append('ONPFDNA')\n",
    "\n",
    "print('Chosen states:'); print(*states_list)\n",
    "\n",
    "compiled_file = pd.ExcelFile('20200922_compiled_rates.xlsx')\n",
    "EOF_file = pd.ExcelFile('error_of_fit.xlsx')\n",
    "\n",
    "states_dict = {}\n",
    "peptide_states_list = ['peptide']\n",
    "for state in states_list:\n",
    "    states_dict[state] = pd.read_excel(compiled_file, state)\n",
    "    peptide_states_list.append(state)\n",
    "    \n",
    "EOF_df = pd.read_excel(EOF_file, usecols = peptide_states_list)\n",
    "\n",
    "# Make dictionaries to organize mutation information\n",
    "MH_dict = {}\n",
    "with open(\"MH_groups.txt\") as file:\n",
    "    for line in file:\n",
    "        (key, val) = line.split()\n",
    "        MH_dict[int(key)] = val\n",
    "\n",
    "mutation_dict = {}\n",
    "with open(\"single_mutants.txt\") as file:\n",
    "    for line in file:\n",
    "        (key, val) = line.split()\n",
    "        mutation_dict[key] = val\n",
    "        \n",
    "MHdescriptions_dict = {}\n",
    "with open(\"MHgroups_descriptions.txt\") as file:\n",
    "    for line in file:\n",
    "        (key, val) = line.split(':')\n",
    "        MHdescriptions_dict[key] = val"
   ]
  },
  {
   "cell_type": "markdown",
   "metadata": {},
   "source": [
    "### Next, choose a peptide."
   ]
  },
  {
   "cell_type": "code",
   "execution_count": 21,
   "metadata": {
    "scrolled": false
   },
   "outputs": [
    {
     "data": {
      "application/vnd.jupyter.widget-view+json": {
       "model_id": "584a9c4a1179490488f97c72ba091587",
       "version_major": 2,
       "version_minor": 0
      },
      "text/plain": [
       "Dropdown(description='Peptide 1:', index=3, options=('63 - LIGVA', '72 - ALHAP', '72 - ALHAPSQIVA', '72 - ALHA…"
      ]
     },
     "metadata": {},
     "output_type": "display_data"
    },
    {
     "data": {
      "application/vnd.jupyter.widget-view+json": {
       "model_id": "c3f45f1362664478855e219853d00210",
       "version_major": 2,
       "version_minor": 0
      },
      "text/plain": [
       "Dropdown(description='Peptide 2:', index=12, options=('63 - LIGVA', '72 - ALHAP', '72 - ALHAPSQIVA', '72 - ALH…"
      ]
     },
     "metadata": {},
     "output_type": "display_data"
    }
   ],
   "source": [
    "single_state_dict = states_dict.get(states_list[0])\n",
    "all_peptides = single_state_dict[['peptide']].values.tolist()\n",
    "all_peptides_2 = []\n",
    "first_res = single_state_dict[['first_res']].values.tolist()\n",
    "index = 0\n",
    "\n",
    "while index < len(all_peptides):\n",
    "    current_first_res = str(int(first_res[index][0]))\n",
    "    all_peptides_2.append(current_first_res + ' - ' + all_peptides[index][0])\n",
    "    index = index + 1\n",
    "\n",
    "DDwidget = widgets.Dropdown(\n",
    "    options = all_peptides_2,\n",
    "    value = '72 - ALHAPSQIVAA',\n",
    "    description = 'Peptide 1:',\n",
    "    disabled = False,\n",
    ")\n",
    "\n",
    "DDwidget2 = widgets.Dropdown(\n",
    "    options = all_peptides_2,\n",
    "    value = '109 - AAVHNL',\n",
    "    description = 'Peptide 2:',\n",
    "    disabled = False,\n",
    ")\n",
    "\n",
    "display(DDwidget)\n",
    "display(DDwidget2)"
   ]
  },
  {
   "cell_type": "markdown",
   "metadata": {},
   "source": [
    "## Map the peptides onto the protein structure for the chosen states and peptides."
   ]
  },
  {
   "cell_type": "code",
   "execution_count": 27,
   "metadata": {},
   "outputs": [
    {
     "name": "stdout",
     "output_type": "stream",
     "text": [
      "Peptide 1: FRLLGQTSV, residues 293-301\n",
      "Peptide 2: AAVHNL, residues 109-114\n",
      "\n",
      "PDB ID: 2P9H (wild-type LacI core domain + IPTG). \n",
      "Oriented with the C-terminal subdomain at the top.\n",
      "\n",
      "Use the mouse to move the structure. \n",
      "Double-click for full-screen. Type \"R\" to zoom out, \"I\" to rotate, and \"K\" to rock.\n",
      "NGLViewer, an amazing tool: H Nguyen, DA Case and AS Rose, Bioinformatics, 2017. doi:10.1093/bioinformatics/btx789\n",
      "\n",
      "Peptide FRLLGQTSV, residues 295-301, shown as orange surface and sticks.\n",
      "Peptide AAVHNL, residues 111-114, shown as blue surface and sticks.\n"
     ]
    },
    {
     "data": {
      "application/vnd.jupyter.widget-view+json": {
       "model_id": "710301d9747d44bf92dd27caca8dae27",
       "version_major": 2,
       "version_minor": 0
      },
      "text/plain": [
       "NGLWidget()"
      ]
     },
     "metadata": {},
     "output_type": "display_data"
    }
   ],
   "source": [
    "peptide_input1 = str(DDwidget.value)\n",
    "peptide_input1 = peptide_input1.split()[-1]\n",
    "\n",
    "peptide_input2 = str(DDwidget2.value)\n",
    "peptide_input2 = peptide_input2.split()[-1]\n",
    "\n",
    "list_states = states_dict.keys()\n",
    "peptide_dict1 = dict.fromkeys(list_states, peptide_input1)\n",
    "peptide_dict2 = dict.fromkeys(list_states, peptide_input2)\n",
    "\n",
    "############\n",
    "\n",
    "def getIndexes(dfObj, value):\n",
    "    listOfPos = []\n",
    "    result = dfObj.isin([value])\n",
    "    seriesObj = result.any()\n",
    "    columnNames = list(seriesObj[seriesObj == True].index)\n",
    "    for col in columnNames:\n",
    "        rows = list(result[col][result[col] == True].index)\n",
    "        for row in rows:\n",
    "            listOfPos.append((row, col))\n",
    "    return listOfPos\n",
    "\n",
    "############\n",
    "\n",
    "for key in peptide_dict1:\n",
    "    peptide1_df = states_dict[key]\n",
    "    peptide1_df = peptide1_df[peptide1_df[\"peptide\"] == peptide_input1]\n",
    "    peptide1_df = peptide1_df[['first_res','last_res','peptide']]\n",
    "    peptide_dict1[key] = peptide1_df\n",
    "    \n",
    "peptide1_first_res = int(peptide1_df['first_res'])\n",
    "peptide1_last_res = int(peptide1_df['last_res'])\n",
    "print('Peptide 1: ' + peptide_input1 + \", residues \" + str(peptide1_first_res) + \"-\" + str(peptide1_last_res))\n",
    "\n",
    "column_vals = []\n",
    "\n",
    "for key in peptide_dict1:\n",
    "    peptide_file = pd.ExcelFile('~/Dropbox/Research/Data/HDX/20200816/20200819_fitting/' + str(peptide1_first_res) + \n",
    "                                '_' + str(peptide1_last_res) + '_' + peptide_input1 + '_fitting.xlsx')\n",
    "    raw_df = pd.read_excel(peptide_file, 'Peptide SD', nrows = 15)\n",
    "\n",
    "    listOfPositions = getIndexes(raw_df, key)\n",
    "    for i in range(len(listOfPositions)):\n",
    "        temp_string = (listOfPositions[i][1])\n",
    "        position = int(temp_string[-2:])\n",
    "        column_vals.append(position) # columns in spreadsheet corresponding to data label\n",
    "\n",
    "peptide1_exchange = {}\n",
    "for element in column_vals:\n",
    "    for key in peptide_dict1.keys():\n",
    "        if key.lower() == (raw_df.iloc[2][element]).lower():\n",
    "            peptide1_exchange[key] = list(raw_df.iloc[4:13,element+2])\n",
    "\n",
    "############\n",
    "\n",
    "for key in peptide_dict2:\n",
    "    peptide2_df = states_dict[key]\n",
    "    peptide2_df = peptide2_df[peptide2_df[\"peptide\"] == peptide_input2]\n",
    "    peptide2_df = peptide2_df[['first_res','last_res','peptide']]\n",
    "    peptide_dict2[key] = peptide1_df\n",
    "    \n",
    "peptide2_first_res = int(peptide2_df['first_res'])\n",
    "peptide2_last_res = int(peptide2_df['last_res'])\n",
    "print('Peptide 2: ' + peptide_input2 + \", residues \" + str(peptide2_first_res) + \"-\" + str(peptide2_last_res))\n",
    "\n",
    "column_vals = []\n",
    "\n",
    "for key in peptide_dict1:\n",
    "    peptide_file = pd.ExcelFile('~/Dropbox/Research/Data/HDX/20200816/20200819_fitting/' + str(peptide2_first_res) + \n",
    "                                '_' + str(peptide2_last_res) + '_' + peptide_input2 + '_fitting.xlsx')\n",
    "    raw_df = pd.read_excel(peptide_file, 'Peptide SD', nrows = 15)\n",
    "\n",
    "    listOfPositions = getIndexes(raw_df, key)\n",
    "    for i in range(len(listOfPositions)):\n",
    "        temp_string = (listOfPositions[i][1])\n",
    "        position = int(temp_string[-2:])\n",
    "        column_vals.append(position) # columns in spreadsheet corresponding to data label\n",
    "\n",
    "peptide2_exchange = {}\n",
    "for element in column_vals:\n",
    "    for key in peptide_dict2.keys():\n",
    "        if key.lower() == (raw_df.iloc[2][element]).lower():\n",
    "            peptide2_exchange[key] = list(raw_df.iloc[4:13,element+2])\n",
    "\n",
    "# This section controls the structure widget.\n",
    "\n",
    "# view = nv.NGLWidget()\n",
    "traj = pt.load('2p9h_REDO.pdb')\n",
    "view = nv.show_pytraj(traj)\n",
    "view.add_surface(str(peptide1_first_res+2) + \"-\" + str(peptide1_last_res), color = 'orange', \n",
    "                 opacity='0.5', wireframe=False)\n",
    "view.add_ball_and_stick(str(peptide1_first_res+2) + \"-\" + str(peptide1_last_res))\n",
    "view.add_surface(str(peptide2_first_res+2) + \"-\" + str(peptide2_last_res), color = 'lightblue', \n",
    "                 opacity='0.5', wireframe=False)\n",
    "view.add_ball_and_stick(str(peptide2_first_res+2) + \"-\" + str(peptide2_last_res))\n",
    "view.background = \"white\"\n",
    "# view.add_surface('74-81', color = 'orange', opacity='0.9', wireframe=True)\n",
    "# view.add_ball_and_stick('246-255')\n",
    "\n",
    "\n",
    "# view.add_representation('line', selection='water') # uncomment this line to see solvent\n",
    "view._set_size('800px', '600px')\n",
    "mat = [59.476009917035874 ,66.10295214971443, -76.02228809508843, 0,\n",
    "       -55.56959630110223, 95.16365469618486, 39.27191257844691, 0,\n",
    "       84.029807431962, 16.14505706800799, 79.77915091670029, 0, \n",
    "       -22.46560287475586, 17.614827632904053, -10.28352165222168, 1]\n",
    "view._set_camera_orientation(mat)\n",
    "print('''\n",
    "PDB ID: 2P9H (wild-type LacI core domain + IPTG). \n",
    "Oriented with the C-terminal subdomain at the top.\n",
    "\n",
    "Use the mouse to move the structure. \n",
    "Double-click for full-screen. Type \"R\" to zoom out, \"I\" to rotate, and \"K\" to rock.\n",
    "NGLViewer, an amazing tool: H Nguyen, DA Case and AS Rose, Bioinformatics, 2017. doi:10.1093/bioinformatics/btx789\n",
    "''')\n",
    "print('Peptide ' + peptide_input1 + ', residues ' + str(peptide1_first_res+2) + \"-\" + str(peptide1_last_res) + \n",
    "      ', shown as orange surface and sticks.')\n",
    "print('Peptide ' + peptide_input2 + ', residues ' + str(peptide2_first_res+2) + \"-\" + str(peptide2_last_res) + \n",
    "      ', shown as blue surface and sticks.')\n",
    "view"
   ]
  },
  {
   "cell_type": "markdown",
   "metadata": {},
   "source": [
    "## Plot H/D exchange functions as uptake plots for each peptide for each state."
   ]
  },
  {
   "cell_type": "code",
   "execution_count": 28,
   "metadata": {},
   "outputs": [
    {
     "data": {
      "image/png": "[encoded data removed]",
      "text/plain": [
       "<Figure size 1008x504 with 2 Axes>"
      ]
     },
     "metadata": {
      "needs_background": "light"
     },
     "output_type": "display_data"
    }
   ],
   "source": [
    "# fitting\n",
    "\n",
    "def exchange_fit(x, a, b, c, d, e, f, g):\n",
    "    max_protons = a + b + c + g - 2 - num_prolines\n",
    "    d > e\n",
    "    e > f\n",
    "    d > f\n",
    "    return max_protons - a * np.exp(-d * x) - b * np.exp(-e * x) - c * np.exp(-f * x) - g\n",
    "\n",
    "timepoints = [0, 30, 45, 60, 300, 1500, 3600, 7200, 14400]\n",
    "trialT = np.logspace(1.5, 4.5, 10000)\n",
    "\n",
    "num_prolines = peptide_input1[2:].count('P')\n",
    "max_protons = len(peptide_input1) - 2 - num_prolines\n",
    "\n",
    "peptide1_fits = {}\n",
    "\n",
    "for key in peptide1_exchange:\n",
    "    p1_index = 0\n",
    "    peptide1_tps = []\n",
    "    peptide1_ex = []\n",
    "    for tp in peptide1_exchange.get(key):\n",
    "        if not math.isnan(float(tp)):\n",
    "            peptide1_tps.append(timepoints[p1_index])\n",
    "            peptide1_ex.append(float(tp))\n",
    "        p1_index = p1_index + 1\n",
    "        \n",
    "    popt, pcov = curve_fit(f = exchange_fit, xdata = peptide1_tps, ydata = peptide1_ex,\n",
    "                           bounds = (0, [max_protons, max_protons, max_protons, 1, 1, 1, max_protons]),\n",
    "                           maxfev = 100000)\n",
    "    exchange_peptide1 = exchange_fit(trialT, *popt)\n",
    "    perr = np.sqrt(np.diag(pcov))\n",
    "    peptide1_fits[key] = exchange_peptide1\n",
    "\n",
    "num_prolines = peptide_input2[2:].count('P')\n",
    "max_protons = len(peptide_input2) - 2 - num_prolines\n",
    "    \n",
    "peptide2_fits = {}\n",
    "\n",
    "for key in peptide2_exchange:\n",
    "    p2_index = 0\n",
    "    peptide2_tps = []\n",
    "    peptide2_ex = []\n",
    "    for tp in peptide2_exchange.get(key):\n",
    "        if not math.isnan(float(tp)):\n",
    "            peptide2_tps.append(timepoints[p2_index])\n",
    "            peptide2_ex.append(float(tp))\n",
    "        p2_index = p2_index + 1\n",
    "        \n",
    "    popt, pcov = curve_fit(f = exchange_fit, xdata = peptide2_tps, ydata = peptide2_ex,\n",
    "                           bounds = (0, [max_protons, max_protons, max_protons, 1, 1, 1, max_protons]),\n",
    "                           maxfev = 100000)\n",
    "    exchange_peptide2 = exchange_fit(trialT, *popt)\n",
    "    perr = np.sqrt(np.diag(pcov))\n",
    "    peptide2_fits[key] = exchange_peptide2\n",
    "\n",
    "# plotting\n",
    "    \n",
    "font = {'family' : 'DejaVu Sans',\n",
    "        'weight' : 'normal',\n",
    "        'size'   : 20\n",
    "       }\n",
    "axes = {'titlesize' : 20,\n",
    "        'titleweight' : 'bold',\n",
    "        'labelsize' : 20\n",
    "       }\n",
    "\n",
    "plt.rc('font', **font)\n",
    "plt.rc('axes', **axes)\n",
    "plt.rc('lines', lw = 3)\n",
    "color_dict = {\n",
    "    'IPTG' : 'blue',\n",
    "    'ONPF' : 'orange',\n",
    "    'APO' : 'green',\n",
    "    'DNA' : 'red',\n",
    "    'TMG' : 'gray',\n",
    "    'ONPFDNA' : 'purple'\n",
    "    }\n",
    "\n",
    "figure, (ax1, ax2) = plt.subplots(1, 2, figsize=(14,7))\n",
    "\n",
    "for key in peptide1_exchange:\n",
    "    ax1.plot(timepoints, peptide1_exchange.get(key), 'o', label = key, markersize = 10, alpha = 0.5, \n",
    "             color = color_dict.get(key))\n",
    "    ax1.plot(trialT, peptide1_fits.get(key), '-', color = color_dict.get(key))\n",
    "for key in peptide2_exchange:\n",
    "    ax2.plot(timepoints, peptide2_exchange.get(key), 'o', label = key, markersize = 10, alpha = 0.5,\n",
    "             color = color_dict.get(key))\n",
    "    ax2.plot(trialT, peptide2_fits.get(key), '-', color = color_dict.get(key))\n",
    "\n",
    "ax1.set_ylabel('# Deuterons')\n",
    "ax1.set_xlabel('Time (seconds)')\n",
    "ax2.set_xlabel('Time (seconds)')\n",
    "ax1.set_title(str(peptide1_first_res) + ' - ' + peptide_input1)\n",
    "ax2.set_title(str(peptide2_first_res) + ' - ' + peptide_input2)\n",
    "ax1.set_xscale('log')\n",
    "ax2.set_xscale('log')\n",
    "ax1.set_ylim(0, len(peptide_input1) - 2 - peptide_input1[2:].count('P') + 0.25)\n",
    "ax2.set_ylim(0, len(peptide_input2) - 2 - peptide_input1[2:].count('P')+ 0.25)\n",
    "ax1.yaxis.set_major_formatter(FormatStrFormatter('%.1f'))\n",
    "ax2.yaxis.set_major_formatter(FormatStrFormatter('%.1f'))\n",
    "\n",
    "plt.legend(frameon = False, bbox_to_anchor = (1.5, 1))\n",
    "plt.show()"
   ]
  },
  {
   "cell_type": "markdown",
   "metadata": {},
   "source": [
    "### Compile mutational phenotype data for Peptide 1."
   ]
  },
  {
   "cell_type": "code",
   "execution_count": 29,
   "metadata": {
    "scrolled": false
   },
   "outputs": [
    {
     "name": "stdout",
     "output_type": "stream",
     "text": [
      "\n",
      "-------- Mutational phenotype data from Markiewicz et al., J. Mol Biol., 1994 --------\n",
      "\n",
      "Peptide 1: FRLLGQTSV\n",
      "\n",
      "F293: group 11\n",
      "IPTG contacts, substitutions result in Is phenotype\n",
      "\n",
      "Mutations that do not affect the phenotype: S\n",
      "Mutations causing small effects on phenotype: L A\n",
      "Mutations causing dramatic effects on phenotype: Y H C E G K P Q R\n",
      "\n",
      "R294: group 1\n",
      "Solvent exposed and mostly tolerant to substitutions\n",
      "\n",
      "Mutations that do not affect the phenotype: Y L H A C E F G K P Q S\n",
      "Mutations causing small effects on phenotype: \n",
      "Mutations causing dramatic effects on phenotype: \n",
      "\n",
      "L295: group 1\n",
      "Solvent exposed and mostly tolerant to substitutions\n",
      "\n",
      "Mutations that do not affect the phenotype: H A C E F K P Q R S\n",
      "Mutations causing small effects on phenotype: Y G\n",
      "Mutations causing dramatic effects on phenotype: \n",
      "\n",
      "L296: group 7\n",
      "Buried, intolerant to substitutions (I-)\n",
      "\n",
      "Mutations that do not affect the phenotype: A C E G Q S\n",
      "Mutations causing small effects on phenotype: H P\n",
      "Mutations causing dramatic effects on phenotype: Y F K R\n",
      "\n",
      "G297: group 5\n",
      "Buried/small, only small amino acid substitutions tolerated (I-)\n",
      "\n",
      "Mutations that do not affect the phenotype: \n",
      "Mutations causing small effects on phenotype: A S\n",
      "Mutations causing dramatic effects on phenotype: Y L H C E F K P Q R\n",
      "\n",
      "Q298: group 1\n",
      "Solvent exposed and mostly tolerant to substitutions\n",
      "\n",
      "Mutations that do not affect the phenotype: L H A C E G K P R S\n",
      "Mutations causing small effects on phenotype: Y F\n",
      "Mutations causing dramatic effects on phenotype: \n",
      "\n",
      "T299: group 1\n",
      "Solvent exposed and mostly tolerant to substitutions\n",
      "\n",
      "Mutations that do not affect the phenotype: Y L H A C E F G K Q R S\n",
      "Mutations causing small effects on phenotype: P\n",
      "Mutations causing dramatic effects on phenotype: \n",
      "\n",
      "S300: group 7\n",
      "Buried, intolerant to substitutions (I-)\n",
      "\n",
      "Mutations that do not affect the phenotype: L A C G\n",
      "Mutations causing small effects on phenotype: F\n",
      "Mutations causing dramatic effects on phenotype: Y H E K P Q R\n",
      "\n",
      "V301: group 7\n",
      "Buried, intolerant to substitutions (I-)\n",
      "\n",
      "Mutations that do not affect the phenotype: L H A C\n",
      "Mutations causing small effects on phenotype: Y F G\n",
      "Mutations causing dramatic effects on phenotype: E K P Q R S\n",
      "\n",
      "Heatmap\n",
      "Darker colors indicate increased disruption to phenotype by mutation.\n",
      "White boxes - WT residue.\n"
     ]
    },
    {
     "data": {
      "image/png": "[encoded data removed]",
      "text/plain": [
       "<Figure size 720x576 with 2 Axes>"
      ]
     },
     "metadata": {
      "needs_background": "light"
     },
     "output_type": "display_data"
    }
   ],
   "source": [
    "# This section controls the mutation information.\n",
    "\n",
    "peptide1_range = range(peptide1_first_res, peptide1_last_res + 1, 1)\n",
    "\n",
    "print('''\n",
    "-------- Mutational phenotype data from Markiewicz et al., J. Mol Biol., 1994 --------\n",
    "''')\n",
    "print('Peptide 1: ' + peptide_input1)\n",
    "\n",
    "peptide_index = 0\n",
    "res_label_value = []\n",
    "AA_value = []\n",
    "heatmap_value = []\n",
    "\n",
    "aa = list(\"YLHACDEFGIKMNPQRSTVW\")\n",
    "\n",
    "for residue in peptide1_range:\n",
    "    no_effect = []\n",
    "    small_effect = []\n",
    "    dramatic_effect = []\n",
    "    \n",
    "    # print MH group\n",
    "    for key, value in MH_dict.items(): \n",
    "        if residue == key:\n",
    "            peptide_index = peptide_index + 1\n",
    "            res_label = str(peptide_input1[peptide_index-1]) + str(residue)\n",
    "            print('\\n' + res_label + ': group ' + value)\n",
    "            # print MH group description\n",
    "            for second_key, second_value in MHdescriptions_dict.items():\n",
    "                if value == second_key:\n",
    "                    print(second_value)\n",
    "                    \n",
    "    # group and print phenotype effects of specific point mutations\n",
    "    for AA in aa:\n",
    "        for key, value in mutation_dict.items():\n",
    "            if key[-1] == AA:\n",
    "                if res_label in key:\n",
    "                    if value == '+':\n",
    "                        no_effect.append(key[-1])\n",
    "                        heatmap_value.append(1)\n",
    "                        AA_value.append(AA)\n",
    "                        res_label_value.append(residue)\n",
    "                    elif value == ('+-'):\n",
    "                        small_effect.append(key[-1])\n",
    "                        heatmap_value.append(0.25)\n",
    "                        AA_value.append(AA)\n",
    "                        res_label_value.append(residue)\n",
    "                    elif value == ('-+'):\n",
    "                        small_effect.append(key[-1])\n",
    "                        heatmap_value.append(0.75)\n",
    "                        AA_value.append(AA)\n",
    "                        res_label_value.append(residue)\n",
    "                    elif value == '-':\n",
    "                        dramatic_effect.append(key[-1])\n",
    "                        heatmap_value.append(0)\n",
    "                        AA_value.append(AA)\n",
    "                        res_label_value.append(residue)\n",
    "\n",
    "    print('Mutations that do not affect the phenotype: ' + \" \".join(x for x in no_effect))\n",
    "    print('Mutations causing small effects on phenotype: ' + \" \".join(x for x in small_effect))\n",
    "    print('Mutations causing dramatic effects on phenotype: ' + \" \".join(x for x in dramatic_effect))\n",
    "\n",
    "heatmap_df = pd.DataFrame({'Phenotype': AA_value, 'Residue': res_label_value, 'Sensitivity': heatmap_value })\n",
    "# plot it\n",
    "print('\\nHeatmap'\n",
    "      '\\nDarker colors indicate increased disruption to phenotype by mutation.'\n",
    "      '\\nWhite boxes - WT residue.')\n",
    "plt.rcParams['figure.figsize'] = (10.0, 8.0)\n",
    "plt.rcParams['font.size'] = 18\n",
    "plt.rcParams['font.family'] = 'DejaVu Sans'\n",
    "df_wide=heatmap_df.pivot_table( index='Residue', columns='Phenotype', values='Sensitivity' )\n",
    "p2=sns.heatmap( df_wide, cmap=\"YlGn_r\" )\n",
    "p2.set_title(str(peptide1_first_res) + ' - ' + peptide_input1)\n",
    "plt.show()"
   ]
  },
  {
   "cell_type": "markdown",
   "metadata": {},
   "source": [
    "### Compile mutational phenotype data for Peptide 2."
   ]
  },
  {
   "cell_type": "code",
   "execution_count": 30,
   "metadata": {
    "scrolled": false
   },
   "outputs": [
    {
     "name": "stdout",
     "output_type": "stream",
     "text": [
      "\n",
      "-------- Mutational phenotype data from Markiewicz et al., J. Mol Biol., 1994 --------\n",
      "\n",
      "Peptide 2: AAVHNL\n",
      "\n",
      "A109: group 1\n",
      "Solvent exposed and mostly tolerant to substitutions\n",
      "\n",
      "Mutations that do not affect the phenotype: Y L H C E F G K P Q R S\n",
      "Mutations causing small effects on phenotype: \n",
      "Mutations causing dramatic effects on phenotype: \n",
      "\n",
      "A110: group 12\n",
      "N-terminal part of the dimerization interface - substitutions result in Is phenotype\n",
      "\n",
      "Mutations that do not affect the phenotype: L C F G Q S\n",
      "Mutations causing small effects on phenotype: H E P R\n",
      "Mutations causing dramatic effects on phenotype: Y K\n",
      "\n",
      "V111: group 3\n",
      "Buried, but tolerant to substitutions\n",
      "\n",
      "Mutations that do not affect the phenotype: Y L H A C E F G K P Q R S\n",
      "Mutations causing small effects on phenotype: \n",
      "Mutations causing dramatic effects on phenotype: \n",
      "\n",
      "H112: group 15\n",
      "Interface between headpiece of protomer A and core of protomer B, or interface between headpieces A and B - intolerant to substitutions\n",
      "Mutations that do not affect the phenotype: Y L A C E F G K P Q R S\n",
      "Mutations causing small effects on phenotype: \n",
      "Mutations causing dramatic effects on phenotype: \n",
      "\n",
      "N113: group 15\n",
      "Interface between headpiece of protomer A and core of protomer B, or interface between headpieces A and B - intolerant to substitutions\n",
      "Mutations that do not affect the phenotype: H A C E F G Q R S\n",
      "Mutations causing small effects on phenotype: \n",
      "Mutations causing dramatic effects on phenotype: Y L K P\n",
      "\n",
      "L114: group 7\n",
      "Buried, intolerant to substitutions (I-)\n",
      "\n",
      "Mutations that do not affect the phenotype: H A C G Q S\n",
      "Mutations causing small effects on phenotype: Y F\n",
      "Mutations causing dramatic effects on phenotype: E K P R\n",
      "\n",
      "Heatmap\n",
      "Darker colors indicate increased disruption to phenotype by mutation.\n",
      "White boxes - WT residue.\n"
     ]
    },
    {
     "data": {
      "image/png": "[encoded data removed]",
      "text/plain": [
       "<Figure size 720x576 with 2 Axes>"
      ]
     },
     "metadata": {
      "needs_background": "light"
     },
     "output_type": "display_data"
    }
   ],
   "source": [
    "# This section controls the mutation information.\n",
    "\n",
    "peptide2_range = range(peptide2_first_res, peptide2_last_res + 1, 1)\n",
    "\n",
    "print('''\n",
    "-------- Mutational phenotype data from Markiewicz et al., J. Mol Biol., 1994 --------\n",
    "''')\n",
    "print('Peptide 2: ' + peptide_input2)\n",
    "\n",
    "peptide_index = 0\n",
    "res_label_value = []\n",
    "AA_value = []\n",
    "heatmap_value = []\n",
    "\n",
    "aa = list(\"YLHACDEFGIKMNPQRSTVW\")\n",
    "\n",
    "for residue in peptide2_range:\n",
    "    no_effect = []\n",
    "    small_effect = []\n",
    "    dramatic_effect = []\n",
    "    \n",
    "    # print MH group\n",
    "    for key, value in MH_dict.items(): \n",
    "        if residue == key:\n",
    "            peptide_index = peptide_index + 1\n",
    "            res_label = str(peptide_input2[peptide_index-1]) + str(residue)\n",
    "            print('\\n' + res_label + ': group ' + value)\n",
    "            # print MH group description\n",
    "            for second_key, second_value in MHdescriptions_dict.items():\n",
    "                if value == second_key:\n",
    "                    print(second_value)\n",
    "                    \n",
    "    # group and print phenotype effects of specific point mutations\n",
    "    for AA in aa:\n",
    "        for key, value in mutation_dict.items():\n",
    "            if key[-1] == AA:\n",
    "                if res_label in key:\n",
    "                    if value == '+':\n",
    "                        no_effect.append(key[-1])\n",
    "                        heatmap_value.append(1)\n",
    "                        AA_value.append(AA)\n",
    "                        res_label_value.append(residue)\n",
    "                    elif value == ('+-'):\n",
    "                        small_effect.append(key[-1])\n",
    "                        heatmap_value.append(0.25)\n",
    "                        AA_value.append(AA)\n",
    "                        res_label_value.append(residue)\n",
    "                    elif value == ('-+'):\n",
    "                        small_effect.append(key[-1])\n",
    "                        heatmap_value.append(0.75)\n",
    "                        AA_value.append(AA)\n",
    "                        res_label_value.append(residue)\n",
    "                    elif value == '-':\n",
    "                        dramatic_effect.append(key[-1])\n",
    "                        heatmap_value.append(0)\n",
    "                        AA_value.append(AA)\n",
    "                        res_label_value.append(residue)\n",
    "\n",
    "    print('Mutations that do not affect the phenotype: ' + \" \".join(x for x in no_effect))\n",
    "    print('Mutations causing small effects on phenotype: ' + \" \".join(x for x in small_effect))\n",
    "    print('Mutations causing dramatic effects on phenotype: ' + \" \".join(x for x in dramatic_effect))\n",
    "\n",
    "heatmap_df = pd.DataFrame({'Phenotype': AA_value, 'Residue': res_label_value, 'Sensitivity': heatmap_value })\n",
    "# plot it\n",
    "print('\\nHeatmap'\n",
    "      '\\nDarker colors indicate increased disruption to phenotype by mutation.'\n",
    "      '\\nWhite boxes - WT residue.')\n",
    "plt.rcParams['figure.figsize'] = (10.0, 8.0)\n",
    "plt.rcParams['font.size'] = 18\n",
    "plt.rcParams['font.family'] = 'DejaVu Sans'\n",
    "df_wide=heatmap_df.pivot_table( index='Residue', columns='Phenotype', values='Sensitivity' )\n",
    "p2=sns.heatmap( df_wide, cmap=\"YlGn_r\" )\n",
    "p2.set_title(str(peptide2_first_res) + ' - ' + peptide_input2)\n",
    "plt.show()"
   ]
  },
  {
   "cell_type": "raw",
   "metadata": {},
   "source": []
  }
 ],
 "metadata": {
  "kernelspec": {
   "display_name": "Python 3",
   "language": "python",
   "name": "python3"
  },
  "language_info": {
   "codemirror_mode": {
    "name": "ipython",
    "version": 3
   },
   "file_extension": ".py",
   "mimetype": "text/x-python",
   "name": "python",
   "nbconvert_exporter": "python",
   "pygments_lexer": "ipython3",
   "version": "3.8.3"
  }
 },
 "nbformat": 4,
 "nbformat_minor": 4
}
